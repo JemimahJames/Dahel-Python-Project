{
 "cells": [
  {
   "cell_type": "code",
   "execution_count": null,
   "id": "c1fc09c0-119d-49b4-85b7-0897df6506ed",
   "metadata": {},
   "outputs": [],
   "source": [
    "# 21. Scraping Data from a Table\n",
    "# Project: Scrape data from a table on a website (e.g., Wikipedia's list of countries)."
   ]
  },
  {
   "cell_type": "code",
   "execution_count": 1,
   "id": "a77aa5ea-fbd3-43e7-aa27-5a8ff3105a40",
   "metadata": {},
   "outputs": [
    {
     "name": "stdout",
     "output_type": "stream",
     "text": [
      "Requirement already satisfied: requests in c:\\users\\hp\\anoconda33\\lib\\site-packages (2.31.0)\n",
      "Requirement already satisfied: charset-normalizer<4,>=2 in c:\\users\\hp\\anoconda33\\lib\\site-packages (from requests) (2.0.4)\n",
      "Requirement already satisfied: idna<4,>=2.5 in c:\\users\\hp\\anoconda33\\lib\\site-packages (from requests) (3.4)\n",
      "Requirement already satisfied: urllib3<3,>=1.21.1 in c:\\users\\hp\\anoconda33\\lib\\site-packages (from requests) (2.0.7)\n",
      "Requirement already satisfied: certifi>=2017.4.17 in c:\\users\\hp\\anoconda33\\lib\\site-packages (from requests) (2024.2.2)\n",
      "Requirement already satisfied: beautifulsoup4 in c:\\users\\hp\\anoconda33\\lib\\site-packages (4.12.2)\n",
      "Requirement already satisfied: soupsieve>1.2 in c:\\users\\hp\\anoconda33\\lib\\site-packages (from beautifulsoup4) (2.5)\n"
     ]
    }
   ],
   "source": [
    "!pip install requests\n",
    "!pip install beautifulsoup4"
   ]
  },
  {
   "cell_type": "code",
   "execution_count": 2,
   "id": "a6bec7f0-259f-493c-97b7-952f801d8810",
   "metadata": {},
   "outputs": [],
   "source": [
    "from bs4 import BeautifulSoup \n",
    "import requests"
   ]
  },
  {
   "cell_type": "code",
   "execution_count": 3,
   "id": "9eaa3e93-4c69-4724-aa85-3e841d2e1b6c",
   "metadata": {},
   "outputs": [],
   "source": [
    "url = 'https://en.wikipedia.org/wiki/List_of_largest_companies_in_the_United_States_by_revenue'"
   ]
  },
  {
   "cell_type": "code",
   "execution_count": 5,
   "id": "cf0c32de-c3da-42f0-81ec-b86931499903",
   "metadata": {},
   "outputs": [
    {
     "data": {
      "text/plain": [
       "<Response [200]>"
      ]
     },
     "execution_count": 5,
     "metadata": {},
     "output_type": "execute_result"
    }
   ],
   "source": [
    "requests.get(url)"
   ]
  },
  {
   "cell_type": "code",
   "execution_count": 6,
   "id": "b24400b0-bda0-4c37-9f1a-c66c56435565",
   "metadata": {},
   "outputs": [],
   "source": [
    "page = requests.get(url)"
   ]
  },
  {
   "cell_type": "code",
   "execution_count": 7,
   "id": "14ad4672-f306-4ac7-94b4-67e1c6c3ac8d",
   "metadata": {},
   "outputs": [],
   "source": [
    "soup = BeautifulSoup(page.text, 'html')"
   ]
  },
  {
   "cell_type": "code",
   "execution_count": 8,
   "id": "8017bdf5-daa1-4246-8270-6dd4499f83d0",
   "metadata": {},
   "outputs": [
    {
     "data": {
      "text/plain": [
       "[<th>Rank\n",
       " </th>,\n",
       " <th>Name\n",
       " </th>,\n",
       " <th>Industry\n",
       " </th>,\n",
       " <th>Revenue <br/>(USD millions)\n",
       " </th>,\n",
       " <th>Revenue growth\n",
       " </th>,\n",
       " <th>Employees\n",
       " </th>,\n",
       " <th>Headquarters\n",
       " </th>,\n",
       " <th>Rank\n",
       " </th>,\n",
       " <th>Name\n",
       " </th>,\n",
       " <th>Industry\n",
       " </th>,\n",
       " <th>Revenue <br/>(USD billions)\n",
       " </th>,\n",
       " <th>Employees\n",
       " </th>,\n",
       " <th>Headquarters\n",
       " </th>,\n",
       " <th>Rank\n",
       " </th>,\n",
       " <th>Name\n",
       " </th>,\n",
       " <th>Industry\n",
       " </th>,\n",
       " <th>Profits<br/>(USD millions)\n",
       " </th>]"
      ]
     },
     "execution_count": 8,
     "metadata": {},
     "output_type": "execute_result"
    }
   ],
   "source": [
    "soup.find_all('th')"
   ]
  },
  {
   "cell_type": "code",
   "execution_count": 9,
   "id": "9039b4ad-41d9-44f6-a7c5-e39f2874d3b4",
   "metadata": {},
   "outputs": [],
   "source": [
    "world_titles = soup.find_all('th')"
   ]
  },
  {
   "cell_type": "code",
   "execution_count": 10,
   "id": "43fef60b-c521-4e35-85d5-157cae855eff",
   "metadata": {},
   "outputs": [
    {
     "name": "stdout",
     "output_type": "stream",
     "text": [
      "['Rank\\n', 'Name\\n', 'Industry\\n', 'Revenue (USD millions)\\n', 'Revenue growth\\n', 'Employees\\n', 'Headquarters\\n', 'Rank\\n', 'Name\\n', 'Industry\\n', 'Revenue (USD billions)\\n', 'Employees\\n', 'Headquarters\\n', 'Rank\\n', 'Name\\n', 'Industry\\n', 'Profits(USD millions)\\n']\n"
     ]
    }
   ],
   "source": [
    "world_table_titles = [title.text for title in world_titles]\n",
    "print(world_table_titles) "
   ]
  },
  {
   "cell_type": "code",
   "execution_count": 11,
   "id": "500c7cdb-8fa2-47cd-b7f3-67c45c743a19",
   "metadata": {},
   "outputs": [],
   "source": [
    "import pandas as pd"
   ]
  },
  {
   "cell_type": "code",
   "execution_count": 12,
   "id": "d58014c6-d3a0-45ee-a8cf-6c40de8745ea",
   "metadata": {},
   "outputs": [],
   "source": [
    "df_columns = [\"Rank\", \"Name\", \"Industry\", \"Revenue (USD millions)\", \"Revenue growth\", \"Employees\", \"Headquarters\"]\n",
    "df = pd.DataFrame(columns=df_columns)"
   ]
  },
  {
   "cell_type": "code",
   "execution_count": 16,
   "id": "65f1c77c-dab9-4bb8-b635-55a1267a7b5d",
   "metadata": {},
   "outputs": [],
   "source": [
    "column_data = soup.find_all('tr')"
   ]
  },
  {
   "cell_type": "code",
   "execution_count": 17,
   "id": "a9ee66e4-5e41-43c2-8e45-54d188f3a8b8",
   "metadata": {},
   "outputs": [
    {
     "name": "stdout",
     "output_type": "stream",
     "text": [
      "Skipping row due to mismatched columns: []\n",
      "Skipping row due to mismatched columns: ['1', 'Cargill', 'Food industry', '165', '155,000', 'Minnetonka, Minnesota']\n",
      "Skipping row due to mismatched columns: ['2', 'Koch Industries', 'Conglomerate', '125', '120,000', 'Wichita, Kansas']\n",
      "Skipping row due to mismatched columns: ['3', 'Publix Super Markets', 'Retail', '48', '230,000', 'Winter Haven, Florida']\n",
      "Skipping row due to mismatched columns: ['4', 'Mars, Incorporated', 'Food industry', '45', '140,000', 'McLean, Virginia']\n",
      "Skipping row due to mismatched columns: ['5', 'Pilot Corporation', 'Petroleum industry and Retail', '41.9', '30,000', 'Knoxville, Tennessee']\n",
      "Skipping row due to mismatched columns: ['6', 'H-E-B', 'Retail', '38.9', '145,000', 'San Antonio, Texas']\n",
      "Skipping row due to mismatched columns: ['7', 'Reyes Holdings', 'Wholesaling', '35.3', '33,000', 'Rosemont, Illinois']\n",
      "Skipping row due to mismatched columns: ['8', 'C&S Wholesale Grocers', 'Wholesaling', '33', '14,000', 'Keene, New Hampshire']\n",
      "Skipping row due to mismatched columns: ['9', 'Enterprise Holdings', 'Car rental', '30', '80,000', 'Clayton, Missouri']\n",
      "Skipping row due to mismatched columns: ['10', \"Love's\", 'Petroleum industry and Retail', '25.5', '38,000', 'Oklahoma City, Oklahoma']\n",
      "Skipping row due to mismatched columns: []\n",
      "Skipping row due to mismatched columns: ['1', 'Apple', 'Electronics', '99,803']\n",
      "Skipping row due to mismatched columns: ['2', 'Microsoft', 'Technology', '72,738']\n",
      "Skipping row due to mismatched columns: ['3', 'Alphabet', 'Technology', '59,972']\n",
      "Skipping row due to mismatched columns: ['5', 'ExxonMobil', 'Petroleum industry', '55,740']\n",
      "Skipping row due to mismatched columns: ['6', 'JPMorgan Chase', 'Financials', '37,676']\n",
      "Skipping row due to mismatched columns: ['7', 'Chevron Corporation', 'Petroleum industry', '35,465']\n",
      "Skipping row due to mismatched columns: ['8', 'Pfizer', 'Pharmaceutical industry', '31,372']\n",
      "Skipping row due to mismatched columns: ['9', 'Bank of America', 'Financials', '27,528']\n",
      "Skipping row due to mismatched columns: ['10', 'Meta Platforms', 'Technology', '23,200']\n"
     ]
    }
   ],
   "source": [
    "for row in column_data[2:]:\n",
    "    row_data = row.find_all('td')\n",
    "    individual_row_data = [data.text.strip() for data in row_data]\n",
    "    \n",
    "    # Check if the length of individual_row_data matches the number of DataFrame columns\n",
    "    if len(individual_row_data) == len(df_columns):\n",
    "        length = len(df)\n",
    "        df.loc[length] = individual_row_data\n",
    "    else:\n",
    "        print(f\"Skipping row due to mismatched columns: {individual_row_data}\")\n"
   ]
  },
  {
   "cell_type": "code",
   "execution_count": 18,
   "id": "b8fae506-bcb2-496e-b689-1d99814df76a",
   "metadata": {},
   "outputs": [
    {
     "name": "stdout",
     "output_type": "stream",
     "text": [
      "   Rank                      Name                    Industry  \\\n",
      "0     1                   Walmart                      Retail   \n",
      "1     2                    Amazon  Retail and cloud computing   \n",
      "2     3                ExxonMobil          Petroleum industry   \n",
      "3     4                     Apple        Electronics industry   \n",
      "4     5        UnitedHealth Group                  Healthcare   \n",
      "..  ...                       ...                         ...   \n",
      "95   96                  Best Buy                      Retail   \n",
      "96   97      Bristol-Myers Squibb     Pharmaceutical industry   \n",
      "97   98           United Airlines                     Airline   \n",
      "98   99  Thermo Fisher Scientific      Laboratory instruments   \n",
      "99  100                  Qualcomm                  Technology   \n",
      "\n",
      "   Revenue (USD millions) Revenue growth  Employees             Headquarters  \n",
      "0                 611,289           6.7%  2,100,000    Bentonville, Arkansas  \n",
      "1                 513,983           9.4%  1,540,000      Seattle, Washington  \n",
      "2                 413,680          44.8%     62,000            Spring, Texas  \n",
      "3                 394,328           7.8%    164,000    Cupertino, California  \n",
      "4                 324,162          12.7%    400,000    Minnetonka, Minnesota  \n",
      "..                    ...            ...        ...                      ...  \n",
      "95                 46,298          10.6%     71,100     Richfield, Minnesota  \n",
      "96                 46,159           0.5%     34,300  New York City, New York  \n",
      "97                 44,955          82.5%     92,795        Chicago, Illinois  \n",
      "98                 44,915          14.5%    130,000   Waltham, Massachusetts  \n",
      "99                 44,200          31.7%     51,000    San Diego, California  \n",
      "\n",
      "[100 rows x 7 columns]\n"
     ]
    }
   ],
   "source": [
    "print(df)"
   ]
  },
  {
   "cell_type": "code",
   "execution_count": 19,
   "id": "3be689a4-55c7-4aca-b1b9-e0944e7de291",
   "metadata": {},
   "outputs": [],
   "source": [
    "df.to_csv (r'C:\\Users\\hp\\List of Country.csv', index = False)"
   ]
  }
 ],
 "metadata": {
  "kernelspec": {
   "display_name": "Python 3 (ipykernel)",
   "language": "python",
   "name": "python3"
  },
  "language_info": {
   "codemirror_mode": {
    "name": "ipython",
    "version": 3
   },
   "file_extension": ".py",
   "mimetype": "text/x-python",
   "name": "python",
   "nbconvert_exporter": "python",
   "pygments_lexer": "ipython3",
   "version": "3.11.7"
  }
 },
 "nbformat": 4,
 "nbformat_minor": 5
}
