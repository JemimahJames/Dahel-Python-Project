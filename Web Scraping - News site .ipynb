{
 "cells": [
  {
   "cell_type": "code",
   "execution_count": null,
   "id": "310f0666-10e2-44a6-8819-2248b7709317",
   "metadata": {},
   "outputs": [],
   "source": [
    "#11. Basic Web Scraper\n",
    "#Use the requests and BeautifulSoup libraries to scrape data from a website (ensure it complies with the website's terms of service).\n",
    "# Extract and display specific information, such as headlines from a news site.\n"
   ]
  },
  {
   "cell_type": "code",
   "execution_count": 1,
   "id": "5cbc89c1-ac86-4855-b806-0b18cc447c81",
   "metadata": {},
   "outputs": [
    {
     "name": "stdout",
     "output_type": "stream",
     "text": [
      "Requirement already satisfied: beautifulsoup4 in c:\\users\\hp\\anoconda33\\lib\\site-packages (4.12.2)\n",
      "Requirement already satisfied: soupsieve>1.2 in c:\\users\\hp\\anoconda33\\lib\\site-packages (from beautifulsoup4) (2.5)\n",
      "Requirement already satisfied: requests in c:\\users\\hp\\anoconda33\\lib\\site-packages (2.31.0)\n",
      "Requirement already satisfied: charset-normalizer<4,>=2 in c:\\users\\hp\\anoconda33\\lib\\site-packages (from requests) (2.0.4)\n",
      "Requirement already satisfied: idna<4,>=2.5 in c:\\users\\hp\\anoconda33\\lib\\site-packages (from requests) (3.4)\n",
      "Requirement already satisfied: urllib3<3,>=1.21.1 in c:\\users\\hp\\anoconda33\\lib\\site-packages (from requests) (2.0.7)\n",
      "Requirement already satisfied: certifi>=2017.4.17 in c:\\users\\hp\\anoconda33\\lib\\site-packages (from requests) (2024.2.2)\n"
     ]
    }
   ],
   "source": [
    "!pip install beautifulsoup4\n",
    "!pip install requests"
   ]
  },
  {
   "cell_type": "code",
   "execution_count": 2,
   "id": "09e32d20-792d-4c90-b98c-b1a61afb7ac0",
   "metadata": {},
   "outputs": [],
   "source": [
    "from bs4 import BeautifulSoup \n",
    "import requests "
   ]
  },
  {
   "cell_type": "code",
   "execution_count": 3,
   "id": "eace44e3-84b7-4b6c-a0e3-dd2147e2ea75",
   "metadata": {},
   "outputs": [],
   "source": [
    "url = \"https://punchng.com/topics/news/\""
   ]
  },
  {
   "cell_type": "code",
   "execution_count": 4,
   "id": "0fe5036b-412a-4460-9651-484471eb6e95",
   "metadata": {},
   "outputs": [],
   "source": [
    "page = requests.get(url)"
   ]
  },
  {
   "cell_type": "code",
   "execution_count": 5,
   "id": "f93bb3d1-e660-4bdf-881e-474897fff478",
   "metadata": {},
   "outputs": [],
   "source": [
    "soup = BeautifulSoup(page.text, 'html')"
   ]
  },
  {
   "cell_type": "code",
   "execution_count": 6,
   "id": "910ba192-b86a-41ec-b789-6716d05b3147",
   "metadata": {},
   "outputs": [
    {
     "data": {
      "text/plain": [
       "[<h1 class=\"post-title\"><a href=\"https://punchng.com/endbadgovernanceinnigeria-journalist-protesters-arrested-in-abuja/\">#EndBadGovernanceInNigeria: Journalist, protesters arrested in Abuja  </a></h1>,\n",
       " <h1 class=\"post-title\"><a href=\"https://punchng.com/pictorial-emir-sanusis-son-weds-lover-in-abuja/\">PICTORIAL: Emir Sanusi’s son weds lover in Abuja  </a></h1>,\n",
       " <h1 class=\"post-title\"><a href=\"https://punchng.com/endbadgovernance-soldiers-ambushed-us-shot-live-rounds-abuja-protester/\">#EndBadGovernance: Soldiers ambushed us, shot live rounds - Abuja protester  </a></h1>,\n",
       " <h1 class=\"post-title\"><a href=\"https://punchng.com/akume-hailed-for-peaceful-protests-in-north-central/\">Akume hailed for peaceful protests in North Central  </a></h1>,\n",
       " <h1 class=\"post-title\"><a href=\"https://punchng.com/endbadgovernanceinnigeria-protesters-invite-religious-leaders-for-talks/\">#EndBadGovernanceInNigeria: Protesters invite religious leaders for talks  </a></h1>,\n",
       " <h1 class=\"post-title\"><a href=\"https://punchng.com/boko-haram-iswap-insurgents-killed-109-in-six-months-report/\">Boko Haram, ISWAP insurgents killed 109 in six months - Report  </a></h1>,\n",
       " <h1 class=\"post-title\"><a href=\"https://punchng.com/accident-not-shooting-caused-katsina-nscdc-officers-injury-police/\">Accident, not shooting, caused Katsina NSCDC officer’s injury - Police  </a></h1>,\n",
       " <h1 class=\"post-title\"><a href=\"https://punchng.com/police-defuse-grenades-as-herdsmen-chop-off-farmers-hands-in-borno/\">Police defuse grenades, as herdsmen chop off farmer's hands in Borno  </a></h1>,\n",
       " <h1 class=\"post-title\"><a href=\"https://punchng.com/95-of-borno-protesters-underaged-zulum/\">95% of Borno protesters underaged  – Zulum  </a></h1>,\n",
       " <h1 class=\"post-title\"><a href=\"https://punchng.com/israel-drone-strike-kills-five-in-west-bank/\">Israel drone strike kills five in West Bank  </a></h1>,\n",
       " <h1 class=\"post-title\"><a href=\"https://punchng.com/ukraine-russia-trade-drone-strikes-overnight/\">Ukraine, Russia trade drone strikes overnight  </a></h1>,\n",
       " <h1 class=\"post-title\"><a href=\"https://punchng.com/updated-kidnapped-kogi-lg-chairman-regains-freedom/\">  UPDATED: Kidnapped Kogi LG chairman regains freedom  </a></h1>,\n",
       " <h1 class=\"post-title\"><a href=\"https://punchng.com/endbadgovernanceinnigeria-reduce-fuel-price-to-barest-minimum-ndelta-group-tells-tinubu/\">  #EndBadGovernanceInNigeria: Reduce fuel price to barest minimum, N'Delta group tells Tinubu   </a></h1>,\n",
       " <h1 class=\"post-title\"><a href=\"https://punchng.com/au-allocates-10-4m-to-africa-cdc-for-mpox-response/\">  AU allocates $10.4m to Africa CDC for Mpox response  </a></h1>,\n",
       " <h1 class=\"post-title\"><a href=\"https://punchng.com/cupp-faults-tinubus-silence-on-hunger-protest/\">  CUPP faults Tinubu's silence on hunger protest  </a></h1>,\n",
       " <h1 class=\"post-title\"><a href=\"https://punchng.com/minister-seeks-suspension-of-hunger-protest/\">  Minister seeks suspension of hunger protest  </a></h1>,\n",
       " <h1 class=\"post-title\"><a href=\"https://punchng.com/ncaa-clears-air-on-grounding-of-arik-air-operations/\">  NCAA clears air on grounding of Arik Air operations  </a></h1>,\n",
       " <h1 class=\"post-title\"><a href=\"https://punchng.com/why-there-are-no-protests-in-zamfara-pdp/\">  Why there are no protests in Zamfara — PDP  </a></h1>,\n",
       " <h1 class=\"post-title\"><a href=\"https://punchng.com/hunger-protest-tinubus-silence-heightening-public-apprehension-pdp/\">  Hunger protest: Tinubu’s silence heightening public apprehension - PDP  </a></h1>,\n",
       " <h1 class=\"post-title\"><a href=\"https://punchng.com/trump-agrees-to-debate-with-harris-on-september-4/\">  Trump agrees to debate with Harris on September 4  </a></h1>,\n",
       " <h1 class=\"post-title\"><a href=\"https://punchng.com/kogi-partners-police-trust-fund-to-develop-barracks/\">  Kogi partners police trust fund to develop barracks  </a></h1>,\n",
       " <h1 class=\"post-title\"><a href=\"https://punchng.com/pyrates-confraternity-not-secret-cult-says-soyinka/\">  Pyrates Confraternity not secret cult, says Soyinka  </a></h1>,\n",
       " <h1 class=\"post-title\"><a href=\"https://punchng.com/breaking-trump-agrees-to-debate-kamala-harris-september-4/\">  BREAKING: Trump agrees to debate Kamala Harris September 4   </a></h1>,\n",
       " <h1 class=\"post-title\"><a href=\"https://punchng.com/venezuela-authorities-ratify-maduros-victory-as-more-nations-recognise-rival/\">  Venezuela authorities ratify Maduro's victory as more nations recognise rival  </a></h1>,\n",
       " <h1 class=\"post-title\"><a href=\"https://punchng.com/african-central-bank-governors-decry-high-borrowing-costs/\">  African Central Bank governors decry high borrowing costs  </a></h1>,\n",
       " <h1 class=\"post-title\"><a href=\"https://punchng.com/police-recover-loot-from-kano-protests-continue-search-operations/\">  Police recover loot from Kano protests, continue search operations  </a></h1>,\n",
       " <h1 class=\"post-title\"><a href=\"https://punchng.com/endbadgovernanceinnigeria-commission-demands-justice-for-victim-of-police-assault/\">  #EndBadGovernanceInNigeria: Commission demands justice for victim of police assault  </a></h1>,\n",
       " <h1 class=\"post-title\"><a href=\"https://punchng.com/discos-throws-kaduna-govt-house-into-darkness-over-n2-9bn-debt/\">  Discos throws Kaduna Govt House into darkness over N2.9bn debt  </a></h1>,\n",
       " <h1 class=\"post-title\"><a href=\"https://punchng.com/shun-violence-obi-urges-endbadgovernanceinnigeria-protesters/\">  Shun violence, Obi urges #EndbadgovernanceinNigeria protesters  </a></h1>,\n",
       " <h1 class=\"post-title\"><a href=\"https://punchng.com/yahaya-bello-remains-a-wanted-man-slated-for-arrest-efcc/\">  Yahaya Bello remains a wanted  man, slated for arrest – EFCC  </a></h1>,\n",
       " <h1 class=\"post-title\"><a href=\"https://punchng.com/canada-asks-nigerian-student-to-leave-over-fake-2016-admission-letter/\">  [ICYMI] Fraudulent visa: Nigerian family faces deportation from Canada over fake admission letter  </a></h1>]"
      ]
     },
     "execution_count": 6,
     "metadata": {},
     "output_type": "execute_result"
    }
   ],
   "source": [
    "soup.find_all('h1', class_ = \"post-title\")"
   ]
  },
  {
   "cell_type": "code",
   "execution_count": 7,
   "id": "6ea97858-4841-48d8-9609-fd9e5e7d9e79",
   "metadata": {},
   "outputs": [],
   "source": [
    "world_titles = soup.find_all('h1', class_ = \"post-title\")"
   ]
  },
  {
   "cell_type": "code",
   "execution_count": 8,
   "id": "ded32abd-3b4c-46e5-be33-eb837939c773",
   "metadata": {},
   "outputs": [
    {
     "name": "stdout",
     "output_type": "stream",
     "text": [
      "['#EndBadGovernanceInNigeria: Journalist, protesters arrested in Abuja  ', 'PICTORIAL: Emir Sanusi’s son weds lover in Abuja  ', '#EndBadGovernance: Soldiers ambushed us, shot live rounds - Abuja protester  ', 'Akume hailed for peaceful protests in North Central  ', '#EndBadGovernanceInNigeria: Protesters invite religious leaders for talks  ', 'Boko Haram, ISWAP insurgents killed 109 in six months - Report  ', 'Accident, not shooting, caused Katsina NSCDC officer’s injury - Police  ', \"Police defuse grenades, as herdsmen chop off farmer's hands in Borno  \", '95% of Borno protesters underaged\\xa0 – Zulum  ', 'Israel drone strike kills five in West Bank  ', 'Ukraine, Russia trade drone strikes overnight  ', '  UPDATED: Kidnapped Kogi LG chairman regains freedom  ', \"  #EndBadGovernanceInNigeria: Reduce fuel price to barest minimum, N'Delta group tells Tinubu\\xa0  \", '  AU allocates $10.4m to Africa CDC for Mpox response  ', \"  CUPP faults Tinubu's silence on hunger protest  \", '  Minister seeks suspension of hunger protest  ', '  NCAA clears air on grounding of Arik Air operations  ', '  Why there are no protests in Zamfara — PDP  ', '  Hunger protest: Tinubu’s silence heightening public apprehension - PDP  ', '  Trump agrees to debate with Harris on September 4  ', '  Kogi partners police trust fund to develop barracks  ', '  Pyrates Confraternity not secret cult, says Soyinka  ', '  BREAKING: Trump agrees to debate Kamala Harris September 4\\xa0  ', \"  Venezuela authorities ratify Maduro's victory as more nations recognise rival  \", '  African Central Bank governors decry high borrowing costs  ', '  Police recover loot from Kano protests, continue search operations  ', '  #EndBadGovernanceInNigeria: Commission demands justice for victim of police assault  ', '  Discos throws Kaduna Govt House into darkness over N2.9bn debt  ', '  Shun violence, Obi urges #EndbadgovernanceinNigeria protesters  ', '  Yahaya Bello remains a wanted  man, slated for arrest – EFCC  ', '  [ICYMI] Fraudulent visa: Nigerian family faces deportation from Canada over fake admission\\xa0letter  ']\n"
     ]
    }
   ],
   "source": [
    "world_heading_titles = [title.text for title in world_titles]\n",
    "print(world_heading_titles) "
   ]
  },
  {
   "cell_type": "code",
   "execution_count": 9,
   "id": "f84158b7-6b63-475e-8876-88c2e99a1b9d",
   "metadata": {},
   "outputs": [
    {
     "name": "stdout",
     "output_type": "stream",
     "text": [
      "#EndBadGovernanceInNigeria: Journalist, protesters arrested in Abuja\n",
      "PICTORIAL: Emir Sanusi’s son weds lover in Abuja\n",
      "#EndBadGovernance: Soldiers ambushed us, shot live rounds - Abuja protester\n",
      "Akume hailed for peaceful protests in North Central\n",
      "#EndBadGovernanceInNigeria: Protesters invite religious leaders for talks\n",
      "Boko Haram, ISWAP insurgents killed 109 in six months - Report\n",
      "Accident, not shooting, caused Katsina NSCDC officer’s injury - Police\n",
      "Police defuse grenades, as herdsmen chop off farmer's hands in Borno\n",
      "95% of Borno protesters underaged  – Zulum\n",
      "Israel drone strike kills five in West Bank\n",
      "Ukraine, Russia trade drone strikes overnight\n",
      "UPDATED: Kidnapped Kogi LG chairman regains freedom\n",
      "#EndBadGovernanceInNigeria: Reduce fuel price to barest minimum, N'Delta group tells Tinubu\n",
      "AU allocates $10.4m to Africa CDC for Mpox response\n",
      "CUPP faults Tinubu's silence on hunger protest\n",
      "Minister seeks suspension of hunger protest\n",
      "NCAA clears air on grounding of Arik Air operations\n",
      "Why there are no protests in Zamfara — PDP\n",
      "Hunger protest: Tinubu’s silence heightening public apprehension - PDP\n",
      "Trump agrees to debate with Harris on September 4\n",
      "Kogi partners police trust fund to develop barracks\n",
      "Pyrates Confraternity not secret cult, says Soyinka\n",
      "BREAKING: Trump agrees to debate Kamala Harris September 4\n",
      "Venezuela authorities ratify Maduro's victory as more nations recognise rival\n",
      "African Central Bank governors decry high borrowing costs\n",
      "Police recover loot from Kano protests, continue search operations\n",
      "#EndBadGovernanceInNigeria: Commission demands justice for victim of police assault\n",
      "Discos throws Kaduna Govt House into darkness over N2.9bn debt\n",
      "Shun violence, Obi urges #EndbadgovernanceinNigeria protesters\n",
      "Yahaya Bello remains a wanted  man, slated for arrest – EFCC\n",
      "[ICYMI] Fraudulent visa: Nigerian family faces deportation from Canada over fake admission letter\n"
     ]
    }
   ],
   "source": [
    "for i in world_heading_titles:\n",
    "    print(i.strip())"
   ]
  },
  {
   "cell_type": "code",
   "execution_count": null,
   "id": "7c09acac-3d1e-4e2c-8cab-0615c8e1c82d",
   "metadata": {},
   "outputs": [],
   "source": []
  }
 ],
 "metadata": {
  "kernelspec": {
   "display_name": "Python 3 (ipykernel)",
   "language": "python",
   "name": "python3"
  },
  "language_info": {
   "codemirror_mode": {
    "name": "ipython",
    "version": 3
   },
   "file_extension": ".py",
   "mimetype": "text/x-python",
   "name": "python",
   "nbconvert_exporter": "python",
   "pygments_lexer": "ipython3",
   "version": "3.11.7"
  }
 },
 "nbformat": 4,
 "nbformat_minor": 5
}
