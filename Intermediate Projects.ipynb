{
 "cells": [
  {
   "cell_type": "code",
   "execution_count": 1,
   "id": "5bec0fc0-5788-462f-ade7-318c8e6e3c04",
   "metadata": {},
   "outputs": [
    {
     "name": "stdin",
     "output_type": "stream",
     "text": [
      "Enter your string:  madam\n"
     ]
    },
    {
     "name": "stdout",
     "output_type": "stream",
     "text": [
      "The string is a palindrome.\n"
     ]
    }
   ],
   "source": [
    "# 5. Palindrome Checker\n",
    "# Write a function that checks whether a given string is a palindrome (reads the same forwards and backwards).\n",
    "\n",
    "def isPalindrome(palin):\n",
    "    if (palin == palin[::-1]):\n",
    "        return \"The string is a palindrome.\"\n",
    "    else:\n",
    "        return \"The string is not a palindrome.\"\n",
    "        \n",
    "palin = input(\"Enter your string: \" )\n",
    "\n",
    "print(isPalindrome(palin))\n"
   ]
  },
  {
   "cell_type": "code",
   "execution_count": 3,
   "id": "eaa0faa8-8202-49f9-bdf0-c3768839d099",
   "metadata": {},
   "outputs": [
    {
     "name": "stdin",
     "output_type": "stream",
     "text": [
      "Enter your string:  analytics\n"
     ]
    },
    {
     "name": "stdout",
     "output_type": "stream",
     "text": [
      "The string is not a palindrome.\n"
     ]
    }
   ],
   "source": [
    "# testing for non palindrom string \n",
    "\n",
    "def isPalindrome(palin):\n",
    "    if (palin == palin[::-1]):\n",
    "        return \"The string is a palindrome.\"\n",
    "    else:\n",
    "        return \"The string is not a palindrome.\"\n",
    "        \n",
    "palin = input(\"Enter your string: \" )\n",
    "\n",
    "print(isPalindrome(palin))"
   ]
  },
  {
   "cell_type": "code",
   "execution_count": null,
   "id": "d832a400-e953-407d-ada3-3b16c6003416",
   "metadata": {},
   "outputs": [],
   "source": []
  },
  {
   "cell_type": "code",
   "execution_count": 5,
   "id": "deab851f-fda1-433e-9910-ad10d19c4d1e",
   "metadata": {},
   "outputs": [
    {
     "name": "stdin",
     "output_type": "stream",
     "text": [
      "Enter a number:  3\n"
     ]
    },
    {
     "data": {
      "text/plain": [
       "'this number is a prime number'"
      ]
     },
     "execution_count": 5,
     "metadata": {},
     "output_type": "execute_result"
    }
   ],
   "source": [
    "# 6. Prime Number Checker\n",
    "# Create a function that checks if a number provided by the user is prime.\n",
    "\n",
    "def prime():\n",
    "    if int(numb) %2 != 0:\n",
    "        return \"this number is a prime number\"\n",
    "    else:\n",
    "        return\"this number is not a prime number\"\n",
    "\n",
    "numb = input(\"Enter a number: \")\n",
    "\n",
    "prime()"
   ]
  },
  {
   "cell_type": "code",
   "execution_count": 6,
   "id": "99cde6d3-5dde-44c2-aebc-6264ba36f7a4",
   "metadata": {},
   "outputs": [
    {
     "name": "stdin",
     "output_type": "stream",
     "text": [
      "Enter a number:  8\n"
     ]
    },
    {
     "data": {
      "text/plain": [
       "'this number is not a prime number'"
      ]
     },
     "execution_count": 6,
     "metadata": {},
     "output_type": "execute_result"
    }
   ],
   "source": [
    "# testing otherwise\n",
    "\n",
    "def prime():\n",
    "    if int(numb) %2 != 0:\n",
    "        return \"this number is a prime number\"\n",
    "    else:\n",
    "        return\"this number is not a prime number\"\n",
    "\n",
    "numb = input(\"Enter a number: \")\n",
    "\n",
    "prime()"
   ]
  },
  {
   "cell_type": "code",
   "execution_count": null,
   "id": "6f4a85de-0939-4987-8f6b-5e6079ba93e1",
   "metadata": {},
   "outputs": [],
   "source": []
  },
  {
   "cell_type": "code",
   "execution_count": 7,
   "id": "654931aa-81e9-46d4-87fd-298432ae418e",
   "metadata": {},
   "outputs": [
    {
     "name": "stdout",
     "output_type": "stream",
     "text": [
      "File analysis summary:\n",
      "Character count: 4805\n",
      "Word count: 764\n",
      "Space count: 695\n",
      "Line count: 84\n"
     ]
    }
   ],
   "source": [
    "# 7. Basic File Handling\n",
    "# ●\tWrite a program that reads a text file and counts the number of words, lines, and characters in it.\n",
    "\n",
    "def analyze_text_file(file_path):\n",
    "    try:\n",
    "        with open(file_path, 'r') as file:\n",
    "            content = file.read()\n",
    "\n",
    "            char_count = len(content)\n",
    "            word_count = len(content.split())\n",
    "            space_count = content.count(' ')\n",
    "            line_count = content.count('\\n')\n",
    "\n",
    "            print(\"File analysis summary:\")\n",
    "            print(\"Character count:\", char_count)\n",
    "            print(\"Word count:\", word_count)\n",
    "            print(\"Space count:\", space_count)\n",
    "            print(\"Line count:\", line_count)\n",
    "\n",
    "    except FileNotFoundError:\n",
    "        print(\"File not found!\")\n",
    "\n",
    "# Usage\n",
    "file_path = \"Thank.txt\" \n",
    "analyze_text_file(file_path)\n"
   ]
  },
  {
   "cell_type": "code",
   "execution_count": 8,
   "id": "25c8f1b9-643a-4818-a83f-8a3af0c6609b",
   "metadata": {},
   "outputs": [],
   "source": [
    "# ●\tCreate a new text file and write some content to it.\n",
    "\n",
    "tfile = open(\"JemyDahel text\", \"w\")\n",
    "tfile.write(\"hello my people how do you do today? \\n i will be coming back soonest\")\n",
    "tfile.close()"
   ]
  },
  {
   "cell_type": "code",
   "execution_count": null,
   "id": "a1a141ee-f07c-4400-aa2e-f085241f3691",
   "metadata": {},
   "outputs": [],
   "source": []
  },
  {
   "cell_type": "code",
   "execution_count": 9,
   "id": "22d486f7-65d2-4b95-8d90-6b5255898550",
   "metadata": {},
   "outputs": [
    {
     "name": "stdout",
     "output_type": "stream",
     "text": [
      "Select any operation you wan: \n",
      "1. Add\n",
      "2. Subtract\n",
      "3. Multiply\n",
      "4. Divide\n"
     ]
    },
    {
     "name": "stdin",
     "output_type": "stream",
     "text": [
      "Enter choice(1/2/3/4):  4\n",
      "Enter first number:  9\n",
      "Enter second number:  2\n"
     ]
    },
    {
     "name": "stdout",
     "output_type": "stream",
     "text": [
      "9.0 / 2.0 = 4.5\n"
     ]
    },
    {
     "name": "stdin",
     "output_type": "stream",
     "text": [
      "Let's do another calculation? (yes/no):  3\n",
      "Enter choice(1/2/3/4):  3\n",
      "Enter first number:  6\n",
      "Enter second number:  4\n"
     ]
    },
    {
     "name": "stdout",
     "output_type": "stream",
     "text": [
      "6.0 * 4.0 = 24.0\n"
     ]
    },
    {
     "name": "stdin",
     "output_type": "stream",
     "text": [
      "Let's do another calculation? (yes/no):  yes\n",
      "Enter choice(1/2/3/4):  10\n"
     ]
    },
    {
     "name": "stdout",
     "output_type": "stream",
     "text": [
      "Invalid Input\n"
     ]
    },
    {
     "name": "stdin",
     "output_type": "stream",
     "text": [
      "Enter choice(1/2/3/4):  2\n",
      "Enter first number:  1\n",
      "Enter second number:  9\n"
     ]
    },
    {
     "name": "stdout",
     "output_type": "stream",
     "text": [
      "1.0 - 9.0 = -8.0\n"
     ]
    },
    {
     "name": "stdin",
     "output_type": "stream",
     "text": [
      "Let's do another calculation? (yes/no):  no\n"
     ]
    }
   ],
   "source": [
    "# 8. Simple Calculator\n",
    "# Build a simple calculator that can perform basic operations (addition, subtraction, multiplication, division) using functions. \n",
    "# The program should ask the user for input until they decide to quit.\n",
    "\n",
    "def add(x, y):\n",
    "    return x + y\n",
    "\n",
    "def subtract(x, y):\n",
    "    return x - y\n",
    "\n",
    "def multiply(x, y):\n",
    "    return x * y\n",
    "\n",
    "def divide(x, y):\n",
    "    return x / y\n",
    "\n",
    "\n",
    "print(\"Select any operation you wan: \")\n",
    "print(\"1. Add\")\n",
    "print(\"2. Subtract\")\n",
    "print(\"3. Multiply\")\n",
    "print(\"4. Divide\")\n",
    "\n",
    "while True:\n",
    "    # take input from the user\n",
    "    choice = input(\"Enter choice(1/2/3/4): \")\n",
    "\n",
    "    # check if choice is one of the four options\n",
    "    if choice in ('1', '2', '3', '4'):\n",
    "        try:\n",
    "            num1 = float(input(\"Enter first number: \"))\n",
    "            num2 = float(input(\"Enter second number: \"))\n",
    "        except ValueError:\n",
    "            print(\"Invalid input. Please enter a number.\")\n",
    "            continue\n",
    "\n",
    "        if choice == '1':\n",
    "            print(num1, \"+\", num2, \"=\", add(num1, num2))\n",
    "\n",
    "        elif choice == '2':\n",
    "            print(num1, \"-\", num2, \"=\", subtract(num1, num2))\n",
    "\n",
    "        elif choice == '3':\n",
    "            print(num1, \"*\", num2, \"=\", multiply(num1, num2))\n",
    "\n",
    "        elif choice == '4':\n",
    "            print(num1, \"/\", num2, \"=\", divide(num1, num2))\n",
    "        \n",
    "   \n",
    "        next_calculation = input(\"Let's do another calculation? (yes/no): \")\n",
    "        if next_calculation == \"no\":\n",
    "          break\n",
    "    else:\n",
    "        print(\"Invalid Input\")"
   ]
  },
  {
   "cell_type": "code",
   "execution_count": null,
   "id": "93042cbc-8130-415f-be4d-2bb1e78bc53c",
   "metadata": {},
   "outputs": [],
   "source": []
  },
  {
   "cell_type": "code",
   "execution_count": 13,
   "id": "b0bc8557-bec7-45bf-ad72-ce2ccb60eb12",
   "metadata": {},
   "outputs": [
    {
     "name": "stdin",
     "output_type": "stream",
     "text": [
      "Guess a number between 1 and 100 :-  60\n"
     ]
    },
    {
     "name": "stdout",
     "output_type": "stream",
     "text": [
      "You guessed too small!\n"
     ]
    },
    {
     "name": "stdin",
     "output_type": "stream",
     "text": [
      "Guess a number between 1 and 100 :-  80\n"
     ]
    },
    {
     "name": "stdout",
     "output_type": "stream",
     "text": [
      "You Guessed too high!\n"
     ]
    },
    {
     "name": "stdin",
     "output_type": "stream",
     "text": [
      "Guess a number between 1 and 100 :-  70\n"
     ]
    },
    {
     "name": "stdout",
     "output_type": "stream",
     "text": [
      "You Guessed too high!\n"
     ]
    },
    {
     "name": "stdin",
     "output_type": "stream",
     "text": [
      "Guess a number between 1 and 100 :-  65\n"
     ]
    },
    {
     "name": "stdout",
     "output_type": "stream",
     "text": [
      "You guessed too small!\n"
     ]
    },
    {
     "name": "stdin",
     "output_type": "stream",
     "text": [
      "Guess a number between 1 and 100 :-  68\n"
     ]
    },
    {
     "name": "stdout",
     "output_type": "stream",
     "text": [
      "You Guessed too high!\n"
     ]
    },
    {
     "name": "stdin",
     "output_type": "stream",
     "text": [
      "Guess a number between 1 and 100 :-  67\n"
     ]
    },
    {
     "name": "stdout",
     "output_type": "stream",
     "text": [
      "You Guessed too high!\n"
     ]
    },
    {
     "name": "stdin",
     "output_type": "stream",
     "text": [
      "Guess a number between 1 and 100 :-  66\n"
     ]
    },
    {
     "name": "stdout",
     "output_type": "stream",
     "text": [
      "Congratulations! you did it\n"
     ]
    }
   ],
   "source": [
    "# 9. Guess the Number Game\n",
    "#Create a number guessing game where the computer randomly selects a number between 1 and 100, and the user has to guess it. \n",
    "#Provide feedback on whether the guess is too high, too low, or correct.\n",
    "\n",
    "import random\n",
    "import math\n",
    "\n",
    "x = random.randint(1, 100)\n",
    "\n",
    "while x != guess:\n",
    "    guess = int(input(\"Guess a number between 1 and 100 :- \"))\n",
    "\n",
    "    if x == guess:\n",
    "        print(\"Congratulations! you did it\")\n",
    "        break\n",
    "    \n",
    "    elif x > guess:\n",
    "        print(\"You guessed too small!\")\n",
    "    elif x < guess:\n",
    "        print(\"You Guessed too high!\")"
   ]
  },
  {
   "cell_type": "code",
   "execution_count": null,
   "id": "0f62546f-0426-4765-bda7-4aaac4f97e9a",
   "metadata": {},
   "outputs": [],
   "source": []
  },
  {
   "cell_type": "code",
   "execution_count": null,
   "id": "de023020-ef96-4c92-8b99-388712a073bc",
   "metadata": {},
   "outputs": [],
   "source": []
  }
 ],
 "metadata": {
  "kernelspec": {
   "display_name": "Python 3 (ipykernel)",
   "language": "python",
   "name": "python3"
  },
  "language_info": {
   "codemirror_mode": {
    "name": "ipython",
    "version": 3
   },
   "file_extension": ".py",
   "mimetype": "text/x-python",
   "name": "python",
   "nbconvert_exporter": "python",
   "pygments_lexer": "ipython3",
   "version": "3.11.7"
  }
 },
 "nbformat": 4,
 "nbformat_minor": 5
}
