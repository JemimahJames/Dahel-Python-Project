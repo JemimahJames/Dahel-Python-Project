{
 "cells": [
  {
   "cell_type": "code",
   "execution_count": 2,
   "id": "276a32f7-b850-4246-a81b-f6911e994412",
   "metadata": {},
   "outputs": [
    {
     "name": "stdin",
     "output_type": "stream",
     "text": [
      "Enter first number:  60\n",
      "Enter second number:  28\n"
     ]
    },
    {
     "name": "stdout",
     "output_type": "stream",
     "text": [
      "Adding those numbers equals:  88\n",
      "Subtracting second number from the first number equals:  32\n",
      "Multiplying those numbers equals:  1680\n",
      "Diving first number by the second number equals:  2.142857142857143\n"
     ]
    }
   ],
   "source": [
    "# 1. Basic Arithmetic Operations\n",
    "# Create a program that takes two numbers as input from the user and performs addition, subtraction, multiplication, and division.\n",
    "\n",
    "\n",
    "x = input(\"Enter first number: \")\n",
    "y = input(\"Enter second number: \")\n",
    "add = int(x) + int(y)\n",
    "sub = int(x) - int(y)\n",
    "mul = int(x) * int(y)\n",
    "div = int(x) / int(y)\n",
    "\n",
    "print(\"Adding those numbers equals: \", add)\n",
    "print(\"Subtracting second number from the first number equals: \", sub)\n",
    "print(\"Multiplying those numbers equals: \", mul)\n",
    "print(\"Diving first number by the second number equals: \", div)\n"
   ]
  },
  {
   "cell_type": "code",
   "execution_count": 3,
   "id": "15ea116b-8ead-43f0-8a7c-7782563b8b14",
   "metadata": {},
   "outputs": [
    {
     "name": "stdin",
     "output_type": "stream",
     "text": [
      "Enter a string: Hello tech guru, how are you doing\n"
     ]
    },
    {
     "name": "stdout",
     "output_type": "stream",
     "text": [
      "Count of vowels in your string: {'a': 1, 'e': 3, 'i': 1, 'o': 4, 'u': 3}\n",
      "A reverse of your string:  ['doing', 'you', 'are', 'how', 'guru,', 'tech', 'hello']\n",
      "Converting your string to uppercase: HELLO TECH GURU, HOW ARE YOU DOING\n"
     ]
    }
   ],
   "source": [
    "# 3. String Manipulation\n",
    "# Write a program that takes a string input from the user and performs the following:\n",
    "# ●\tCount the number of vowels.\n",
    "# ●\tReverse the string.\n",
    "# ●\tConvert the string to uppercase\n",
    "\n",
    "vowels = 'aeiou'\n",
    "string = input(\"Enter a string:\")\n",
    "string = string.casefold()\n",
    "count = dict.fromkeys(vowels,0)\n",
    "for char in string:\n",
    "    if char in count:\n",
    "        count[char] += 1\n",
    "print(\"Count of vowels in your string:\", count)\n",
    "\n",
    "rev = string.split()\n",
    "rev.reverse()\n",
    "print(\"A reverse of your string: \", rev)\n",
    "\n",
    "print (\"Converting your string to uppercase:\", string.upper())"
   ]
  },
  {
   "cell_type": "code",
   "execution_count": 5,
   "id": "d1c115f3-912b-4c42-a0f7-c59d39930fec",
   "metadata": {},
   "outputs": [
    {
     "name": "stdin",
     "output_type": "stream",
     "text": [
      "Enter you nth term:  8\n"
     ]
    },
    {
     "name": "stdout",
     "output_type": "stream",
     "text": [
      "0\n",
      "1\n",
      "1\n",
      "2\n",
      "3\n",
      "5\n",
      "8\n",
      "13\n"
     ]
    }
   ],
   "source": [
    "# 4. Fibonacci Sequence\n",
    "# Write a function that generates the Fibonacci sequence up to n terms, where n is provided by the user.\n",
    "\n",
    "a, b = 0, 1\n",
    "\n",
    "n = input(\"Enter you nth term: \")\n",
    "\n",
    "for i in range(int(n)):\n",
    "\n",
    "   print(a)\n",
    "\n",
    "   a, b = b, a + b"
   ]
  }
 ],
 "metadata": {
  "kernelspec": {
   "display_name": "Python 3 (ipykernel)",
   "language": "python",
   "name": "python3"
  },
  "language_info": {
   "codemirror_mode": {
    "name": "ipython",
    "version": 3
   },
   "file_extension": ".py",
   "mimetype": "text/x-python",
   "name": "python",
   "nbconvert_exporter": "python",
   "pygments_lexer": "ipython3",
   "version": "3.11.7"
  }
 },
 "nbformat": 4,
 "nbformat_minor": 5
}
