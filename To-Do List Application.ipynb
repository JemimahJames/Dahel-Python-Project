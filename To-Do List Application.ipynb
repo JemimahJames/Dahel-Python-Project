{
 "cells": [
  {
   "cell_type": "code",
   "execution_count": 1,
   "id": "c5190ca1-69ae-4c85-ab5f-9a5c451bd5be",
   "metadata": {},
   "outputs": [],
   "source": [
    "# 10. To-Do List Application\n",
    "# Implement a simple command-line to-do list application that allows users to add, remove, and view tasks.\n",
    "\n",
    "class ToDoList:\n",
    "    def __init__(self):\n",
    "        self.tasks = []\n",
    "\n",
    "    def add_task(self, task):\n",
    "        self.tasks.append(task)\n",
    "        print(\"Task added successfully.\")\n",
    "\n",
    "    def remove_task(self, task):\n",
    "        if task in self.tasks:\n",
    "            self.tasks.remove(task)\n",
    "            print(\"Task removed successfully.\")\n",
    "        else:\n",
    "            print(\"Task not found in the list.\")\n",
    "\n",
    "    def view_tasks(self):\n",
    "        if self.tasks:\n",
    "            print(\"Tasks:\")\n",
    "            for index, task in enumerate(self.tasks, start=1):\n",
    "                print(f\"{index}. {task}\")\n",
    "        else:\n",
    "            print(\"No tasks found.\")\n"
   ]
  },
  {
   "cell_type": "code",
   "execution_count": 3,
   "id": "7b09fc80-227a-471a-80c5-a71ff425b03e",
   "metadata": {},
   "outputs": [
    {
     "name": "stdout",
     "output_type": "stream",
     "text": [
      "\n",
      "1. Add Task\n",
      "2. Remove Task\n",
      "3. View Tasks\n",
      "4. Quit\n"
     ]
    },
    {
     "name": "stdin",
     "output_type": "stream",
     "text": [
      "Enter your choice:  1\n",
      "Enter task:  submit python project\n"
     ]
    },
    {
     "name": "stdout",
     "output_type": "stream",
     "text": [
      "Task added successfully.\n",
      "\n",
      "1. Add Task\n",
      "2. Remove Task\n",
      "3. View Tasks\n",
      "4. Quit\n"
     ]
    },
    {
     "name": "stdin",
     "output_type": "stream",
     "text": [
      "Enter your choice:  1\n",
      "Enter task:  analyze for xyz company\n"
     ]
    },
    {
     "name": "stdout",
     "output_type": "stream",
     "text": [
      "Task added successfully.\n",
      "\n",
      "1. Add Task\n",
      "2. Remove Task\n",
      "3. View Tasks\n",
      "4. Quit\n"
     ]
    },
    {
     "name": "stdin",
     "output_type": "stream",
     "text": [
      "Enter your choice:  1\n",
      "Enter task:  pack bag for vacay\n"
     ]
    },
    {
     "name": "stdout",
     "output_type": "stream",
     "text": [
      "Task added successfully.\n",
      "\n",
      "1. Add Task\n",
      "2. Remove Task\n",
      "3. View Tasks\n",
      "4. Quit\n"
     ]
    },
    {
     "name": "stdin",
     "output_type": "stream",
     "text": [
      "Enter your choice:  3\n"
     ]
    },
    {
     "name": "stdout",
     "output_type": "stream",
     "text": [
      "Tasks:\n",
      "1. submit python project\n",
      "2. analyze for xyz company\n",
      "3. pack bag for vacay\n",
      "\n",
      "1. Add Task\n",
      "2. Remove Task\n",
      "3. View Tasks\n",
      "4. Quit\n"
     ]
    },
    {
     "name": "stdin",
     "output_type": "stream",
     "text": [
      "Enter your choice:  4\n"
     ]
    },
    {
     "name": "stdout",
     "output_type": "stream",
     "text": [
      "Exiting...\n"
     ]
    }
   ],
   "source": [
    "\n",
    "\n",
    "def main():\n",
    "    todo_list = ToDoList()\n",
    "    while True:\n",
    "        print(\"\\n1. Add Task\")\n",
    "        print(\"2. Remove Task\")\n",
    "        print(\"3. View Tasks\")\n",
    "        print(\"4. Quit\")\n",
    "        choice = input(\"Enter your choice: \")\n",
    "        \n",
    "        if choice == \"1\":\n",
    "            task = input(\"Enter task: \")\n",
    "            todo_list.add_task(task)\n",
    "        elif choice == \"2\":\n",
    "            task = input(\"Enter task to remove: \")\n",
    "            todo_list.remove_task(task)\n",
    "        elif choice == \"3\":\n",
    "            todo_list.view_tasks()\n",
    "        elif choice == \"4\":\n",
    "            print(\"Exiting...\")\n",
    "            break\n",
    "        else:\n",
    "            print(\"Invalid choice. Please try again.\")\n",
    "\n",
    "if __name__ == \"__main__\":\n",
    "    main()"
   ]
  },
  {
   "cell_type": "code",
   "execution_count": null,
   "id": "a53ba380-6489-4804-8b3a-13e1ba9bd552",
   "metadata": {},
   "outputs": [],
   "source": []
  },
  {
   "cell_type": "code",
   "execution_count": null,
   "id": "74c925a8-d6ed-46e5-8dd1-00181cf04221",
   "metadata": {},
   "outputs": [],
   "source": []
  }
 ],
 "metadata": {
  "kernelspec": {
   "display_name": "Python 3 (ipykernel)",
   "language": "python",
   "name": "python3"
  },
  "language_info": {
   "codemirror_mode": {
    "name": "ipython",
    "version": 3
   },
   "file_extension": ".py",
   "mimetype": "text/x-python",
   "name": "python",
   "nbconvert_exporter": "python",
   "pygments_lexer": "ipython3",
   "version": "3.11.7"
  }
 },
 "nbformat": 4,
 "nbformat_minor": 5
}
