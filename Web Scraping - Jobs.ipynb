{
 "cells": [
  {
   "cell_type": "code",
   "execution_count": 6,
   "id": "faa2e1d2-f9e7-4824-910c-064137c2da32",
   "metadata": {},
   "outputs": [
    {
     "name": "stdout",
     "output_type": "stream",
     "text": [
      "Requirement already satisfied: BeautifulSoup4 in c:\\users\\hp\\anoconda33\\lib\\site-packages (4.12.2)\n",
      "Requirement already satisfied: soupsieve>1.2 in c:\\users\\hp\\anoconda33\\lib\\site-packages (from BeautifulSoup4) (2.5)\n",
      "Requirement already satisfied: requests in c:\\users\\hp\\anoconda33\\lib\\site-packages (2.31.0)\n",
      "Requirement already satisfied: charset-normalizer<4,>=2 in c:\\users\\hp\\anoconda33\\lib\\site-packages (from requests) (2.0.4)\n",
      "Requirement already satisfied: idna<4,>=2.5 in c:\\users\\hp\\anoconda33\\lib\\site-packages (from requests) (3.4)\n",
      "Requirement already satisfied: urllib3<3,>=1.21.1 in c:\\users\\hp\\anoconda33\\lib\\site-packages (from requests) (2.0.7)\n",
      "Requirement already satisfied: certifi>=2017.4.17 in c:\\users\\hp\\anoconda33\\lib\\site-packages (from requests) (2024.2.2)\n"
     ]
    }
   ],
   "source": [
    "!pip install BeautifulSoup4\n",
    "!pip install requests"
   ]
  },
  {
   "cell_type": "code",
   "execution_count": 7,
   "id": "49d05965-cafd-4b95-8bb6-ac8569fb27f9",
   "metadata": {},
   "outputs": [],
   "source": [
    "from bs4 import BeautifulSoup \n",
    "import requests "
   ]
  },
  {
   "cell_type": "code",
   "execution_count": 8,
   "id": "bd68e772-9ad0-442b-84d9-3a2d252ebe96",
   "metadata": {},
   "outputs": [],
   "source": [
    "location ='https://www.jobberman.com/jobs/software-data?industry=it-telecoms&experience=entry-level'"
   ]
  },
  {
   "cell_type": "code",
   "execution_count": 9,
   "id": "1201a81c-37b7-46ae-80d1-32ae599cdb3d",
   "metadata": {},
   "outputs": [
    {
     "data": {
      "text/plain": [
       "<Response [200]>"
      ]
     },
     "execution_count": 9,
     "metadata": {},
     "output_type": "execute_result"
    }
   ],
   "source": [
    "requests.get(location)"
   ]
  },
  {
   "cell_type": "code",
   "execution_count": 10,
   "id": "21feedb2-5cf7-4c63-a13d-fc67270f1a1a",
   "metadata": {},
   "outputs": [],
   "source": [
    "paging = requests.get(location)"
   ]
  },
  {
   "cell_type": "code",
   "execution_count": 11,
   "id": "502ada14-8e17-4937-9ecb-e1199ad35906",
   "metadata": {},
   "outputs": [],
   "source": [
    "soupy = BeautifulSoup(paging.text, 'html')"
   ]
  },
  {
   "cell_type": "code",
   "execution_count": 14,
   "id": "62e6e141-ad2d-4241-a164-fedc72e62282",
   "metadata": {},
   "outputs": [
    {
     "data": {
      "text/plain": [
       "[<p class=\"text-lg font-medium break-words text-link-500\">\n",
       " Civil/Structural Engineer\n",
       " </p>,\n",
       " <p class=\"text-lg font-medium break-words text-link-500\">\n",
       " Home Tutor\n",
       " </p>,\n",
       " <p class=\"text-lg font-medium break-words text-link-500\">\n",
       " Agronomist/Supervisor\n",
       " </p>,\n",
       " <p class=\"text-lg font-medium break-words text-link-500\">\n",
       " DevOps Practitioner\n",
       " </p>,\n",
       " <p class=\"text-lg font-medium break-words text-link-500\">\n",
       " Artificial Intelligence/Machine Learning Engineer\n",
       " </p>,\n",
       " <p class=\"text-lg font-medium break-words text-link-500\">\n",
       " Front End Developer\n",
       " </p>,\n",
       " <p class=\"text-lg font-medium break-words text-link-500\">\n",
       " Inventory Management &amp; Data Analyst\n",
       " </p>,\n",
       " <p class=\"text-lg font-medium break-words text-link-500\">\n",
       " Mobile App Developer\n",
       " </p>,\n",
       " <p class=\"text-lg font-medium break-words text-link-500\">\n",
       " UI/UX Designer\n",
       " </p>,\n",
       " <p class=\"text-lg font-medium break-words text-link-500\">\n",
       " CMMS (Computerized Maintenance Management System) Engineer\n",
       " </p>,\n",
       " <p class=\"text-lg font-medium break-words text-link-500\">\n",
       " UI/UX Designer\n",
       " </p>,\n",
       " <p class=\"text-lg font-medium break-words text-link-500\">\n",
       " QA Game Tester\n",
       " </p>,\n",
       " <p class=\"text-lg font-medium break-words text-link-500\">\n",
       " Technical Product Manager\n",
       " </p>,\n",
       " <p class=\"text-lg font-medium break-words text-link-500\">\n",
       " Data Analysis/Digital Marketing Trainer\n",
       " </p>,\n",
       " <p class=\"text-lg font-medium break-words text-link-500\">\n",
       " Woocomerce Developer\n",
       " </p>,\n",
       " <p class=\"text-lg font-medium break-words text-link-500\">\n",
       " Zoho One Integrator\n",
       " </p>,\n",
       " <p class=\"text-lg font-medium break-words text-link-500\">\n",
       " WordPress Developer\n",
       " </p>,\n",
       " <p class=\"text-lg font-medium break-words text-link-500\">\n",
       " DevOps Engineer (AWS)\n",
       " </p>,\n",
       " <p class=\"text-lg font-medium break-words text-link-500\">\n",
       " Web Marketers &amp; Technical Sales Officer\n",
       " </p>]"
      ]
     },
     "execution_count": 14,
     "metadata": {},
     "output_type": "execute_result"
    }
   ],
   "source": [
    "soupy.select(\"p.text-lg.font-medium.break-words.text-link-500\")"
   ]
  },
  {
   "cell_type": "code",
   "execution_count": 15,
   "id": "b1f79cda-2e3e-48c3-9709-ced6ef844099",
   "metadata": {},
   "outputs": [],
   "source": [
    "title = soupy.select(\"p.text-lg.font-medium.break-words.text-link-500\")"
   ]
  },
  {
   "cell_type": "code",
   "execution_count": 16,
   "id": "88d9c1a0-7cb2-4d38-bf85-b276cdf955ad",
   "metadata": {},
   "outputs": [
    {
     "name": "stdout",
     "output_type": "stream",
     "text": [
      "['Civil/Structural Engineer', 'Home Tutor', 'Agronomist/Supervisor', 'DevOps Practitioner', 'Artificial Intelligence/Machine Learning Engineer', 'Front End Developer', 'Inventory Management & Data Analyst', 'Mobile App Developer', 'UI/UX Designer', 'CMMS (Computerized Maintenance Management System) Engineer', 'UI/UX Designer', 'QA Game Tester', 'Technical Product Manager', 'Data Analysis/Digital Marketing Trainer', 'Woocomerce Developer', 'Zoho One Integrator', 'WordPress Developer', 'DevOps Engineer (AWS)', 'Web Marketers & Technical Sales Officer']\n"
     ]
    }
   ],
   "source": [
    "titles = [t.text.strip() for t in title]\n",
    "print(titles)"
   ]
  },
  {
   "cell_type": "code",
   "execution_count": 17,
   "id": "8a923aca-d3ef-468b-9b4d-2dcd474e701a",
   "metadata": {},
   "outputs": [
    {
     "data": {
      "text/plain": [
       "[<a class=\"text-loading-animate text-loading-animate-link\" href=\"/jobs?q=BMB%20Nigeria%20LTD\" rel=\"nofollow\">\n",
       " BMB Nigeria LTD\n",
       " </a>,\n",
       " <a class=\"text-loading-animate text-loading-animate-link\" href=\"/jobs?q=Tuteria\" rel=\"nofollow\">\n",
       " Tuteria\n",
       " </a>,\n",
       " <a class=\"text-loading-animate text-loading-animate-link\" href=\"/jobs?q=Pavilion%20MG%20Farms\" rel=\"nofollow\">\n",
       " Pavilion MG Farms\n",
       " </a>,\n",
       " <a class=\"text-loading-animate text-loading-animate-link\" href=\"/jobs?q=Pairview%20Ltd\" rel=\"nofollow\">\n",
       " Pairview Ltd\n",
       " </a>,\n",
       " <a class=\"text-loading-animate text-loading-animate-link\" href=\"/jobs?q=Palm%20Spring%20City%20West%20Africa\" rel=\"nofollow\">\n",
       " Palm Spring City West Africa\n",
       " </a>,\n",
       " <a class=\"text-loading-animate text-loading-animate-link\" href=\"/jobs?q=Krystal%20Digital%20Solutions%20Limited\" rel=\"nofollow\">\n",
       " Krystal Digital Solutions Limited\n",
       " </a>,\n",
       " <a class=\"text-loading-animate text-loading-animate-link\" href=\"/jobs?q=CallTel%20Communications%20Limited\" rel=\"nofollow\">\n",
       " CallTel Communications Limited\n",
       " </a>,\n",
       " <a class=\"text-loading-animate text-loading-animate-link\" href=\"/company/e-directng-essential-nigeria-limited-165f96d3d9dbc4\">\n",
       " E-direct.ng Essential Nigeria Limited\n",
       " </a>,\n",
       " <a class=\"text-loading-animate text-loading-animate-link\" href=\"/jobs?q=SMARTROB%20Technologies\" rel=\"nofollow\">\n",
       " SMARTROB Technologies\n",
       " </a>,\n",
       " <a class=\"text-loading-animate text-loading-animate-link\" href=\"/jobs?q=GUC%20Limited\" rel=\"nofollow\">\n",
       " GUC Limited\n",
       " </a>,\n",
       " <a class=\"text-loading-animate text-loading-animate-link\" href=\"/company/e-directng-essential-nigeria-limited-165f96d3d9dbc4\">\n",
       " E-direct.ng Essential Nigeria Limited\n",
       " </a>,\n",
       " <a class=\"text-loading-animate text-loading-animate-link\" href=\"/jobs?q=LUP%20Investment%20Company%20LTD\" rel=\"nofollow\">\n",
       " LUP Investment Company LTD\n",
       " </a>,\n",
       " <a class=\"text-loading-animate text-loading-animate-link\" href=\"/jobs?q=Frontlett%20Ltd\" rel=\"nofollow\">\n",
       " Frontlett Ltd\n",
       " </a>,\n",
       " <a class=\"text-loading-animate text-loading-animate-link\" href=\"/jobs?q=Safehands%20Soluxions\" rel=\"nofollow\">\n",
       " Safehands Soluxions\n",
       " </a>,\n",
       " <a class=\"text-loading-animate text-loading-animate-link\" href=\"/jobs?q=Frontlett%20Ltd\" rel=\"nofollow\">\n",
       " Frontlett Ltd\n",
       " </a>,\n",
       " <a class=\"text-loading-animate text-loading-animate-link\" href=\"/jobs?q=Frontlett%20Ltd\" rel=\"nofollow\">\n",
       " Frontlett Ltd\n",
       " </a>,\n",
       " <a class=\"text-loading-animate text-loading-animate-link\" href=\"/jobs?q=Sadnan%20Delivery%20Ltd\" rel=\"nofollow\">\n",
       " Sadnan Delivery Ltd\n",
       " </a>,\n",
       " <a class=\"text-loading-animate text-loading-animate-link\" href=\"/jobs?q=Frontlett%20Ltd\" rel=\"nofollow\">\n",
       " Frontlett Ltd\n",
       " </a>,\n",
       " <a class=\"text-loading-animate text-loading-animate-link\" href=\"/jobs?q=Frontlett%20Ltd\" rel=\"nofollow\">\n",
       " Frontlett Ltd\n",
       " </a>]"
      ]
     },
     "execution_count": 17,
     "metadata": {},
     "output_type": "execute_result"
    }
   ],
   "source": [
    "soupy.select(\"a.text-loading-animate.text-loading-animate-link\")"
   ]
  },
  {
   "cell_type": "code",
   "execution_count": 18,
   "id": "09c6db10-e582-4b45-9074-37c988bec3c9",
   "metadata": {},
   "outputs": [],
   "source": [
    "company = soupy.select(\"a.text-loading-animate.text-loading-animate-link\")"
   ]
  },
  {
   "cell_type": "code",
   "execution_count": 19,
   "id": "f9a45499-02eb-402a-9a6d-45028a82aa50",
   "metadata": {},
   "outputs": [
    {
     "name": "stdout",
     "output_type": "stream",
     "text": [
      "['BMB Nigeria LTD', 'Tuteria', 'Pavilion MG Farms', 'Pairview Ltd', 'Palm Spring City West Africa', 'Krystal Digital Solutions Limited', 'CallTel Communications Limited', 'E-direct.ng Essential Nigeria Limited', 'SMARTROB Technologies', 'GUC Limited', 'E-direct.ng Essential Nigeria Limited', 'LUP Investment Company LTD', 'Frontlett Ltd', 'Safehands Soluxions', 'Frontlett Ltd', 'Frontlett Ltd', 'Sadnan Delivery Ltd', 'Frontlett Ltd', 'Frontlett Ltd']\n"
     ]
    }
   ],
   "source": [
    "companies = [com.text.strip() for com in company]\n",
    "print(companies)"
   ]
  },
  {
   "cell_type": "code",
   "execution_count": 20,
   "id": "6b9e952b-13a3-48c8-8d90-055f98a7a238",
   "metadata": {},
   "outputs": [
    {
     "data": {
      "text/plain": [
       "[<span class=\"mr-1\">\n",
       " 75,000 - 150,000\n",
       " </span>,\n",
       " <span class=\"mr-1\">\n",
       " 75,000 - 150,000\n",
       " </span>,\n",
       " <span class=\"mr-1\">\n",
       " 75,000 - 150,000\n",
       " </span>,\n",
       " <span class=\"mr-1\">\n",
       " 150,000 - 250,000\n",
       " </span>,\n",
       " <span class=\"mr-1\">\n",
       " 75,000 - 150,000\n",
       " </span>,\n",
       " <span class=\"mr-1\">\n",
       " 75,000 - 150,000\n",
       " </span>,\n",
       " <span class=\"mr-1\">\n",
       " 75,000 - 150,000\n",
       " </span>,\n",
       " <span class=\"mr-1\">\n",
       " 150,000 - 250,000\n",
       " </span>,\n",
       " <span class=\"mr-1\">\n",
       " 75,000 - 150,000\n",
       " </span>,\n",
       " <span class=\"mr-1\">\n",
       " 250,000 - 400,000\n",
       " </span>,\n",
       " <span class=\"mr-1\">\n",
       " 75,000 - 150,000\n",
       " </span>,\n",
       " <span class=\"mr-1\">\n",
       " 75,000 - 150,000\n",
       " </span>,\n",
       " <span class=\"mr-1\">\n",
       " 75,000 - 150,000\n",
       " </span>,\n",
       " <span class=\"mr-1\">\n",
       " Less than 75,000\n",
       " </span>,\n",
       " <span class=\"mr-1\">\n",
       " 75,000 - 150,000\n",
       " </span>,\n",
       " <span class=\"mr-1\">\n",
       " 75,000 - 150,000\n",
       " </span>,\n",
       " <span class=\"mr-1\">\n",
       " 75,000 - 150,000\n",
       " </span>,\n",
       " <span class=\"mr-1\">\n",
       " 75,000 - 150,000\n",
       " </span>,\n",
       " <span class=\"mr-1\">\n",
       " 75,000 - 150,000\n",
       " </span>,\n",
       " <span class=\"flex items-center m-0 mr-1 w-full text-sm text-left text-gray-700\">\n",
       " <input class=\"rounded-full transition text-brand-secondary duration-150 focus:ring-brand-secondary ease-in-out my-1 mr-2 cursor-pointer\" name=\"job_function\" type=\"radio\" x-bind:checked=\"option.selected\" x-bind:value=\"option.internal_slug\"/>\n",
       " <span x-text=\"option.title\"></span>\n",
       " </span>,\n",
       " <span class=\"flex items-center m-0 mr-1 w-full text-sm text-left text-gray-700\">\n",
       " <input class=\"rounded-full transition text-brand-secondary duration-150 focus:ring-brand-secondary ease-in-out my-1 mr-2 cursor-pointer\" name=\"industry\" type=\"radio\" x-bind:checked=\"option.selected\" x-bind:value=\"option.internal_slug\"/>\n",
       " <span x-text=\"option.title\"></span>\n",
       " </span>,\n",
       " <span class=\"flex items-center m-0 mr-1 w-full text-sm text-left text-gray-700\">\n",
       " <input class=\"rounded-full transition text-brand-secondary duration-150 focus:ring-brand-secondary ease-in-out my-1 mr-2 cursor-pointer\" name=\"location\" type=\"radio\" x-bind:checked=\"option.selected\" x-bind:value=\"option.internal_slug\"/>\n",
       " <span x-text=\"option.title\"></span>\n",
       " </span>,\n",
       " <span class=\"flex items-center m-0 mr-1 w-full text-sm text-left text-gray-700\">\n",
       " <input class=\"rounded-full transition text-brand-secondary duration-150 focus:ring-brand-secondary ease-in-out my-1 mr-2 cursor-pointer\" name=\"work_type\" type=\"radio\" x-bind:checked=\"option.selected\" x-bind:value=\"option.internal_slug\"/>\n",
       " <span x-text=\"option.title\"></span>\n",
       " </span>,\n",
       " <span class=\"flex items-center m-0 mr-1 w-full text-sm text-left text-gray-700\">\n",
       " <input class=\"rounded-full transition text-brand-secondary duration-150 focus:ring-brand-secondary ease-in-out my-1 mr-2 cursor-pointer\" name=\"experience\" type=\"radio\" x-bind:checked=\"option.selected\" x-bind:value=\"option.internal_slug\"/>\n",
       " <span x-text=\"option.title\"></span>\n",
       " </span>,\n",
       " <span class=\"flex items-center m-0 mr-1 w-full text-sm text-left text-gray-700\">\n",
       " <input checked=\"\" class=\"rounded-full transition text-brand-secondary duration-150 focus:ring-brand-secondary ease-in-out my-1 mr-2 cursor-pointer\" name=\"sort\" type=\"radio\" value=\"latest\"/>\n",
       " Latest\n",
       " </span>,\n",
       " <span class=\"flex items-center m-0 mr-1 w-full text-sm text-left text-gray-700\">\n",
       " <input class=\"rounded-full transition text-brand-secondary duration-150 focus:ring-brand-secondary ease-in-out my-1 mr-2 cursor-pointer\" name=\"sort\" type=\"radio\" value=\"featured\"/>\n",
       " Featured\n",
       " </span>,\n",
       " <span class=\"flex items-center m-0 mr-1 w-full text-sm text-left text-gray-700\">\n",
       " <input class=\"rounded-full transition text-brand-secondary duration-150 focus:ring-brand-secondary ease-in-out my-1 mr-2 cursor-pointer\" name=\"sort\" type=\"radio\" value=\"popular\"/>\n",
       " Popular\n",
       " </span>]"
      ]
     },
     "execution_count": 20,
     "metadata": {},
     "output_type": "execute_result"
    }
   ],
   "source": [
    "soupy.select(\"span.mr-1\")"
   ]
  },
  {
   "cell_type": "code",
   "execution_count": 21,
   "id": "78b8959d-f9b1-495f-aec9-68e5624cc40d",
   "metadata": {},
   "outputs": [],
   "source": [
    "salary = soupy.select(\"span.mr-1\")"
   ]
  },
  {
   "cell_type": "code",
   "execution_count": 22,
   "id": "6a14310a-7519-4eab-87f2-35e4616e28a6",
   "metadata": {},
   "outputs": [
    {
     "name": "stdout",
     "output_type": "stream",
     "text": [
      "['75,000 - 150,000', '75,000 - 150,000', '75,000 - 150,000', '150,000 - 250,000', '75,000 - 150,000', '75,000 - 150,000', '75,000 - 150,000', '150,000 - 250,000', '75,000 - 150,000', '250,000 - 400,000', '75,000 - 150,000', '75,000 - 150,000', '75,000 - 150,000', 'Less than 75,000', '75,000 - 150,000', '75,000 - 150,000', '75,000 - 150,000', '75,000 - 150,000', '75,000 - 150,000', '', '', '', '', '', 'Latest', 'Featured', 'Popular']\n"
     ]
    }
   ],
   "source": [
    "salaries = [sal.text.strip() for sal in salary]\n",
    "print(salaries)"
   ]
  },
  {
   "cell_type": "code",
   "execution_count": 23,
   "id": "1a0f67ba-dda4-4021-93bc-c4167f77347c",
   "metadata": {},
   "outputs": [
    {
     "name": "stdout",
     "output_type": "stream",
     "text": [
      "['75,000 - 150,000', '75,000 - 150,000', '75,000 - 150,000', '150,000 - 250,000', '75,000 - 150,000', '75,000 - 150,000', '75,000 - 150,000', '150,000 - 250,000', '75,000 - 150,000', '250,000 - 400,000', '75,000 - 150,000', '75,000 - 150,000', '75,000 - 150,000', 'Less than 75,000', '75,000 - 150,000', '75,000 - 150,000', '75,000 - 150,000', '75,000 - 150,000', '75,000 - 150,000']\n"
     ]
    }
   ],
   "source": [
    "sala = salaries[:-8]\n",
    "print(sala)"
   ]
  },
  {
   "cell_type": "code",
   "execution_count": 24,
   "id": "03f469b1-68b1-4ded-882f-fdf98c4bc2b6",
   "metadata": {},
   "outputs": [],
   "source": [
    "import pandas as pd"
   ]
  },
  {
   "cell_type": "code",
   "execution_count": 25,
   "id": "16843ada-3821-4264-a07e-625730bd9af2",
   "metadata": {},
   "outputs": [
    {
     "name": "stdout",
     "output_type": "stream",
     "text": [
      "                                                Title  \\\n",
      "0                           Civil/Structural Engineer   \n",
      "1                                          Home Tutor   \n",
      "2                               Agronomist/Supervisor   \n",
      "3                                 DevOps Practitioner   \n",
      "4   Artificial Intelligence/Machine Learning Engineer   \n",
      "5                                 Front End Developer   \n",
      "6                 Inventory Management & Data Analyst   \n",
      "7                                Mobile App Developer   \n",
      "8                                      UI/UX Designer   \n",
      "9   CMMS (Computerized Maintenance Management Syst...   \n",
      "10                                     UI/UX Designer   \n",
      "11                                     QA Game Tester   \n",
      "12                          Technical Product Manager   \n",
      "13            Data Analysis/Digital Marketing Trainer   \n",
      "14                               Woocomerce Developer   \n",
      "15                                Zoho One Integrator   \n",
      "16                                WordPress Developer   \n",
      "17                              DevOps Engineer (AWS)   \n",
      "18            Web Marketers & Technical Sales Officer   \n",
      "\n",
      "                                  Company       Salary_Range  \n",
      "0                         BMB Nigeria LTD   75,000 - 150,000  \n",
      "1                                 Tuteria   75,000 - 150,000  \n",
      "2                       Pavilion MG Farms   75,000 - 150,000  \n",
      "3                            Pairview Ltd  150,000 - 250,000  \n",
      "4            Palm Spring City West Africa   75,000 - 150,000  \n",
      "5       Krystal Digital Solutions Limited   75,000 - 150,000  \n",
      "6          CallTel Communications Limited   75,000 - 150,000  \n",
      "7   E-direct.ng Essential Nigeria Limited  150,000 - 250,000  \n",
      "8                   SMARTROB Technologies   75,000 - 150,000  \n",
      "9                             GUC Limited  250,000 - 400,000  \n",
      "10  E-direct.ng Essential Nigeria Limited   75,000 - 150,000  \n",
      "11             LUP Investment Company LTD   75,000 - 150,000  \n",
      "12                          Frontlett Ltd   75,000 - 150,000  \n",
      "13                    Safehands Soluxions   Less than 75,000  \n",
      "14                          Frontlett Ltd   75,000 - 150,000  \n",
      "15                          Frontlett Ltd   75,000 - 150,000  \n",
      "16                    Sadnan Delivery Ltd   75,000 - 150,000  \n",
      "17                          Frontlett Ltd   75,000 - 150,000  \n",
      "18                          Frontlett Ltd   75,000 - 150,000  \n"
     ]
    }
   ],
   "source": [
    "job = pd.DataFrame({\n",
    "    'Title': titles,\n",
    "    'Company': companies,\n",
    "    'Salary_Range': sala\n",
    "})\n",
    "print(job)"
   ]
  },
  {
   "cell_type": "code",
   "execution_count": 26,
   "id": "7aa2f529-cee9-4b06-ab05-f90bfbea884f",
   "metadata": {},
   "outputs": [],
   "source": [
    "job.to_csv (r'C:\\Users\\hp\\ Jobs ws.csv', index = False)"
   ]
  },
  {
   "cell_type": "code",
   "execution_count": null,
   "id": "888184bf-0c86-4f08-800d-24733f7afff5",
   "metadata": {},
   "outputs": [],
   "source": []
  }
 ],
 "metadata": {
  "kernelspec": {
   "display_name": "Python 3 (ipykernel)",
   "language": "python",
   "name": "python3"
  },
  "language_info": {
   "codemirror_mode": {
    "name": "ipython",
    "version": 3
   },
   "file_extension": ".py",
   "mimetype": "text/x-python",
   "name": "python",
   "nbconvert_exporter": "python",
   "pygments_lexer": "ipython3",
   "version": "3.11.7"
  }
 },
 "nbformat": 4,
 "nbformat_minor": 5
}
