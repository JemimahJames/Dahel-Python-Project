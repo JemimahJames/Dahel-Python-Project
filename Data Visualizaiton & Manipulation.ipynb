{
 "cells": [
  {
   "cell_type": "code",
   "execution_count": 1,
   "id": "708807a1-83aa-45f6-a18f-799a7e9600f4",
   "metadata": {},
   "outputs": [
    {
     "name": "stdout",
     "output_type": "stream",
     "text": [
      "Requirement already satisfied: matplotlib in c:\\users\\hp\\anoconda33\\lib\\site-packages (3.8.0)\n",
      "Requirement already satisfied: contourpy>=1.0.1 in c:\\users\\hp\\anoconda33\\lib\\site-packages (from matplotlib) (1.2.0)\n",
      "Requirement already satisfied: cycler>=0.10 in c:\\users\\hp\\anoconda33\\lib\\site-packages (from matplotlib) (0.11.0)\n",
      "Requirement already satisfied: fonttools>=4.22.0 in c:\\users\\hp\\anoconda33\\lib\\site-packages (from matplotlib) (4.25.0)\n",
      "Requirement already satisfied: kiwisolver>=1.0.1 in c:\\users\\hp\\anoconda33\\lib\\site-packages (from matplotlib) (1.4.4)\n",
      "Requirement already satisfied: numpy<2,>=1.21 in c:\\users\\hp\\anoconda33\\lib\\site-packages (from matplotlib) (1.26.4)\n",
      "Requirement already satisfied: packaging>=20.0 in c:\\users\\hp\\anoconda33\\lib\\site-packages (from matplotlib) (23.1)\n",
      "Requirement already satisfied: pillow>=6.2.0 in c:\\users\\hp\\anoconda33\\lib\\site-packages (from matplotlib) (10.2.0)\n",
      "Requirement already satisfied: pyparsing>=2.3.1 in c:\\users\\hp\\anoconda33\\lib\\site-packages (from matplotlib) (3.0.9)\n",
      "Requirement already satisfied: python-dateutil>=2.7 in c:\\users\\hp\\anoconda33\\lib\\site-packages (from matplotlib) (2.8.2)\n",
      "Requirement already satisfied: six>=1.5 in c:\\users\\hp\\anoconda33\\lib\\site-packages (from python-dateutil>=2.7->matplotlib) (1.16.0)\n"
     ]
    }
   ],
   "source": [
    "# 12. Data Visualization\n",
    "# Use libraries like matplotlib or seaborn to visualize data. For example, create a bar chart from a dataset of your choice.\n",
    "\n",
    "! pip install matplotlib"
   ]
  },
  {
   "cell_type": "code",
   "execution_count": 2,
   "id": "8af038b8-d228-4c2b-a7d0-1f37ee27171e",
   "metadata": {},
   "outputs": [],
   "source": [
    "import matplotlib.pyplot as plt"
   ]
  },
  {
   "cell_type": "code",
   "execution_count": 3,
   "id": "77ea17e4-638d-4bca-b868-ea0723948d69",
   "metadata": {},
   "outputs": [
    {
     "data": {
      "image/png": "[encoded data removed]",
      "text/plain": [
       "<Figure size 640x480 with 1 Axes>"
      ]
     },
     "metadata": {},
     "output_type": "display_data"
    }
   ],
   "source": [
    "day = ['mon', 'tues', 'weds', 'thurs', 'fri', 'sat', 'sun']\n",
    "revenue = [100, 200, 50, 150, 80, 180, 90]\n",
    "\n",
    "plt.bar(day, revenue)\n",
    "plt.title(\"Daily Revenue\")\n",
    "plt.ylabel('Revenue')\n",
    "plt.xlabel('Day')\n",
    " \n",
    "plt.show()"
   ]
  },
  {
   "cell_type": "code",
   "execution_count": null,
   "id": "96467c9d-cbfa-4aa7-9e60-9ecf4e0a3183",
   "metadata": {},
   "outputs": [],
   "source": []
  },
  {
   "cell_type": "code",
   "execution_count": 24,
   "id": "d0dea59e-5ea8-4f0f-bd51-041892ec8351",
   "metadata": {},
   "outputs": [
    {
     "name": "stdin",
     "output_type": "stream",
     "text": [
      "Enter city name :  Abuja\n"
     ]
    },
    {
     "name": "stdout",
     "output_type": "stream",
     "text": [
      " Temperature (in kelvin unit) = 301.23\n",
      " atmospheric pressure (in hPa unit) = 1013\n",
      " humidity (in percentage) = 79\n",
      " description = overcast clouds\n"
     ]
    }
   ],
   "source": [
    "# 14. Weather App\n",
    "# Use an API like OpenWeatherMap to create a simple application that fetches and displays the current weather for a given city.\n",
    "\n",
    "# import required modules\n",
    "import requests, json\n",
    "\n",
    "# Enter your API key here\n",
    "api_key = \"f4ea071a55c414d174dd5e9b353ebb22\"\n",
    "\n",
    "# base_url variable to store url\n",
    "base_url = \"http://api.openweathermap.org/data/2.5/weather?\"\n",
    "\n",
    "# Give city name\n",
    "city_name = input(\"Enter city name : \")\n",
    "\n",
    "# complete_url variable to store\n",
    "# complete url address\n",
    "complete_url = base_url + \"appid=\" + api_key + \"&q=\" + city_name\n",
    "\n",
    "# get method of requests module\n",
    "# return response object\n",
    "response = requests.get(complete_url)\n",
    "\n",
    "# json method of response object \n",
    "# convert json format data into\n",
    "# python format data\n",
    "x = response.json()\n",
    "\n",
    "\n",
    "# Now x contains list of nested dictionaries\n",
    "# Check the value of \"cod\" key is equal to\n",
    "# \"404\", means city is found otherwise,\n",
    "# city is not found\n",
    "if x[\"cod\"] != \"404\":\n",
    "\n",
    "\t# store the value of \"main\"\n",
    "\t# key in variable y\n",
    "\ty = x[\"main\"]\n",
    "\n",
    "\t# store the value corresponding\n",
    "\t# to the \"temp\" key of y\n",
    "\tcurrent_temperature = y[\"temp\"]\n",
    "\n",
    "\t# store the value corresponding\n",
    "\t# to the \"pressure\" key of y\n",
    "\tcurrent_pressure = y[\"pressure\"]\n",
    "\n",
    "\t# store the value corresponding\n",
    "\t# to the \"humidity\" key of y\n",
    "\tcurrent_humidity = y[\"humidity\"]\n",
    "\n",
    "\t# store the value of \"weather\"\n",
    "\t# key in variable z\n",
    "\tz = x[\"weather\"]\n",
    "\n",
    "\t# store the value corresponding \n",
    "\t# to the \"description\" key at \n",
    "\t# the 0th index of z\n",
    "\tweather_description = z[0][\"description\"]\n",
    "\n",
    "\t# print following values\n",
    "\tprint(\" Temperature (in kelvin unit) = \" +\n",
    "\t\t\t\t\tstr(current_temperature) +\n",
    "\t\t\"\\n atmospheric pressure (in hPa unit) = \" +\n",
    "\t\t\t\t\tstr(current_pressure) +\n",
    "\t\t\"\\n humidity (in percentage) = \" +\n",
    "\t\t\t\t\tstr(current_humidity) +\n",
    "\t\t\"\\n description = \" +\n",
    "\t\t\t\t\tstr(weather_description))\n",
    "\n",
    "else:\n",
    "\tprint(\" City Not Found \")\n",
    "\n"
   ]
  },
  {
   "cell_type": "code",
   "execution_count": null,
   "id": "b75c66f6-84c8-4fb9-93bd-a9bbb404e9f7",
   "metadata": {},
   "outputs": [],
   "source": []
  },
  {
   "cell_type": "code",
   "execution_count": 5,
   "id": "e4676be9-2354-41e1-9c22-1b2da2b16a1e",
   "metadata": {},
   "outputs": [],
   "source": [
    "# 15. Removing Whitespace and Duplicates\n",
    "# Project: Clean a dataset by removing leading/trailing whitespace and duplicate entries.\n",
    "\n",
    "import pandas as pd"
   ]
  },
  {
   "cell_type": "code",
   "execution_count": 9,
   "id": "4b09578c-7d88-4a28-a11c-c5e08249c532",
   "metadata": {},
   "outputs": [
    {
     "name": "stdout",
     "output_type": "stream",
     "text": [
      "      name  age     subject\n",
      "0    Sally   50       maths\n",
      "1   Mary     40     English\n",
      "2     John   30     English\n",
      "3     Mary   40  English   \n"
     ]
    }
   ],
   "source": [
    " data = {\n",
    "  \"name\": [\"  Sally\", \"Mary  \", \"John\", \"Mary\"],\n",
    "  \"age\": [50, 40, 30, 40],\n",
    "  \"subject\": ['maths', '   English', 'English', 'English   ']\n",
    "}\n",
    "df = pd.DataFrame(data)\n",
    "\n",
    "print(df) #Data with leading/trailing whitespaces"
   ]
  },
  {
   "cell_type": "code",
   "execution_count": 10,
   "id": "9b948dd4-59c9-417b-876d-f61dbe419611",
   "metadata": {},
   "outputs": [
    {
     "name": "stdout",
     "output_type": "stream",
     "text": [
      "    name  age  subject\n",
      "0  Sally   50    maths\n",
      "1   Mary   40  English\n",
      "2   John   30  English\n",
      "3   Mary   40  English\n"
     ]
    }
   ],
   "source": [
    "df[\"name\"] = df[\"name\"].str.strip()\n",
    "df[\"subject\"]= df[\"subject\"].str.strip()\n",
    "\n",
    "print(df) #data stripped off of white spaces but with duplicates"
   ]
  },
  {
   "cell_type": "code",
   "execution_count": 11,
   "id": "ed5c22c2-7b33-4126-9f12-b3bc32df342d",
   "metadata": {},
   "outputs": [
    {
     "name": "stdout",
     "output_type": "stream",
     "text": [
      "    name  age  subject\n",
      "0  Sally   50    maths\n",
      "1   Mary   40  English\n",
      "2   John   30  English\n"
     ]
    }
   ],
   "source": [
    "df.drop_duplicates(inplace=True)\n",
    "print(df)  #data without duplicates"
   ]
  },
  {
   "cell_type": "code",
   "execution_count": 15,
   "id": "e300e5b8-2207-4765-9389-7842ed3ca47e",
   "metadata": {},
   "outputs": [
    {
     "name": "stdout",
     "output_type": "stream",
     "text": [
      "   A  B  C\n",
      "0  1  4  7\n",
      "1  2  5  8\n",
      "2  3  6  9\n",
      "\n",
      "\n",
      "A    object\n",
      "B    object\n",
      "C    object\n",
      "dtype: object\n"
     ]
    }
   ],
   "source": [
    "# 16. Converting Data Types\n",
    "# Project: Convert columns in a DataFrame to appropriate data types.\n",
    "\n",
    "# Create and print DataFrame\n",
    "df = pd.DataFrame({\n",
    "   'A': ['1', '2', '3'],\n",
    "   'B': ['4', '5', '6'],\n",
    "   'C': ['7', '8', '9']\n",
    "})\n",
    "print(df)\n",
    "\n",
    "# Print data types of each column in DataFrame\n",
    "print(\"\\n\")\n",
    "print(df.dtypes)"
   ]
  },
  {
   "cell_type": "code",
   "execution_count": 16,
   "id": "deaaed9d-25a9-4e17-bce9-ddf2c2987abc",
   "metadata": {},
   "outputs": [
    {
     "name": "stdout",
     "output_type": "stream",
     "text": [
      "\n",
      "\n",
      "A    float64\n",
      "B      int32\n",
      "C    float64\n",
      "dtype: object\n"
     ]
    }
   ],
   "source": [
    "# reassign datatypes\n",
    "\n",
    "df['A'] = df['A'].astype(float)\n",
    "df['B'] = df['A'].astype(int)\n",
    "df['C'] = df['C'].astype(float)\n",
    "\n",
    "print(\"\\n\")\n",
    "print(df.dtypes)"
   ]
  },
  {
   "cell_type": "code",
   "execution_count": null,
   "id": "81994fe6-3ea3-4f56-b87c-e06b9d4f21c7",
   "metadata": {},
   "outputs": [],
   "source": []
  },
  {
   "cell_type": "code",
   "execution_count": 17,
   "id": "254a89dd-4324-47cc-b329-34298017256d",
   "metadata": {},
   "outputs": [
    {
     "data": {
      "image/png": "[encoded data removed]",
      "text/plain": [
       "<Figure size 640x480 with 1 Axes>"
      ]
     },
     "metadata": {},
     "output_type": "display_data"
    }
   ],
   "source": [
    "# 17. Basic Data Visualization with Matplotlib\n",
    "# Project: Create a simple line plot of a dataset.\n",
    "\n",
    "a = 9,1,8,2,7,3,6,4,5\n",
    "b = 'favor', 'king', 'joe', 'peace', 'praise', 'great', 'job','faith','ben'\n",
    "\n",
    "plt.plot(b,a)\n",
    "plt.title('heights of students')\n",
    "plt.ylabel('height')\n",
    "plt.xlabel(\"students' names\")\n",
    "\n",
    "plt.show()"
   ]
  },
  {
   "cell_type": "code",
   "execution_count": null,
   "id": "6e654264-3b14-406c-8f50-c16da023a23b",
   "metadata": {},
   "outputs": [],
   "source": []
  },
  {
   "cell_type": "code",
   "execution_count": 18,
   "id": "b6c53d42-a99f-484f-b903-cadf2162cac9",
   "metadata": {},
   "outputs": [
    {
     "name": "stdout",
     "output_type": "stream",
     "text": [
      "   names  score\n",
      "0  ifiok     50\n",
      "1   uwak     40\n",
      "2  tosin     30\n",
      "3  edwin     40\n"
     ]
    }
   ],
   "source": [
    "# 18. Bar Chart from a DataFrame\n",
    "# Project: Create a bar chart showing the frequency of categories in a dataset\n",
    "\n",
    "datas = {\n",
    "  \"names\": [\"ifiok\", \"uwak\", \"tosin\", \"edwin\"],\n",
    "  \"score\": [50, 40, 30, 40]\n",
    " }\n",
    "df = pd.DataFrame(datas)\n",
    "\n",
    "print(df)"
   ]
  },
  {
   "cell_type": "code",
   "execution_count": 19,
   "id": "b43254cc-a6cc-41a2-a473-958e0a5b3f98",
   "metadata": {},
   "outputs": [
    {
     "data": {
      "image/png": "[encoded data removed]",
      "text/plain": [
       "<Figure size 640x480 with 1 Axes>"
      ]
     },
     "metadata": {},
     "output_type": "display_data"
    }
   ],
   "source": [
    "plt.bar(df[\"names\"], df[\"score\"])\n",
    "\n",
    "plt.show()"
   ]
  },
  {
   "cell_type": "code",
   "execution_count": null,
   "id": "6286fa0e-b014-449e-bd4e-c73ffe27581f",
   "metadata": {},
   "outputs": [],
   "source": []
  },
  {
   "cell_type": "code",
   "execution_count": 20,
   "id": "7a5931f6-5534-4132-9bb9-3efb649c0236",
   "metadata": {},
   "outputs": [
    {
     "data": {
      "image/png": "[encoded data removed]",
      "text/plain": [
       "<Figure size 640x480 with 1 Axes>"
      ]
     },
     "metadata": {},
     "output_type": "display_data"
    }
   ],
   "source": [
    "# 19. Scatter Plot for Correlation\n",
    "# Project: Create a scatter plot to visualize the correlation between two numerical variables.\n",
    "\n",
    "import numpy as np\n",
    "\n",
    "x = np.array([5,7,8,7,2,17,2,9,4,11,12,9,6])\n",
    "y = np.array([99,86,87,88,111,86,103,87,94,78,77,85,86])\n",
    "\n",
    "plt.scatter(x, y)\n",
    "plt.show()"
   ]
  },
  {
   "cell_type": "code",
   "execution_count": null,
   "id": "fe9ba5a8-48b7-401b-a020-2a8b4dc8f04c",
   "metadata": {},
   "outputs": [],
   "source": []
  }
 ],
 "metadata": {
  "kernelspec": {
   "display_name": "Python 3 (ipykernel)",
   "language": "python",
   "name": "python3"
  },
  "language_info": {
   "codemirror_mode": {
    "name": "ipython",
    "version": 3
   },
   "file_extension": ".py",
   "mimetype": "text/x-python",
   "name": "python",
   "nbconvert_exporter": "python",
   "pygments_lexer": "ipython3",
   "version": "3.11.7"
  }
 },
 "nbformat": 4,
 "nbformat_minor": 5
}
