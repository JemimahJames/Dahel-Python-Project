{
 "cells": [
  {
   "cell_type": "code",
   "execution_count": 3,
   "id": "ec9405bf-5314-43d8-a7b7-967abec7fffc",
   "metadata": {},
   "outputs": [],
   "source": [
    "# 20. Basic Web Scraping with Beautiful Soup\n",
    "# Project: Write a Python script that scrapes the titles of articles from a news website (e.g., BBC News).\n"
   ]
  },
  {
   "cell_type": "code",
   "execution_count": 5,
   "id": "ea0eea10-8985-4669-a3a5-41a13f1cf836",
   "metadata": {},
   "outputs": [
    {
     "name": "stdout",
     "output_type": "stream",
     "text": [
      "Requirement already satisfied: requests in c:\\users\\hp\\anoconda33\\lib\\site-packages (2.31.0)\n",
      "Requirement already satisfied: charset-normalizer<4,>=2 in c:\\users\\hp\\anoconda33\\lib\\site-packages (from requests) (2.0.4)\n",
      "Requirement already satisfied: idna<4,>=2.5 in c:\\users\\hp\\anoconda33\\lib\\site-packages (from requests) (3.4)\n",
      "Requirement already satisfied: urllib3<3,>=1.21.1 in c:\\users\\hp\\anoconda33\\lib\\site-packages (from requests) (2.0.7)\n",
      "Requirement already satisfied: certifi>=2017.4.17 in c:\\users\\hp\\anoconda33\\lib\\site-packages (from requests) (2024.2.2)\n",
      "Requirement already satisfied: beautifulsoup4 in c:\\users\\hp\\anoconda33\\lib\\site-packages (4.12.2)\n",
      "Requirement already satisfied: soupsieve>1.2 in c:\\users\\hp\\anoconda33\\lib\\site-packages (from beautifulsoup4) (2.5)\n"
     ]
    }
   ],
   "source": [
    "!pip install requests\n",
    "!pip install beautifulsoup4"
   ]
  },
  {
   "cell_type": "code",
   "execution_count": 19,
   "id": "dd535900-e4bf-4a78-b8c2-150efb695db0",
   "metadata": {},
   "outputs": [],
   "source": [
    "from bs4 import BeautifulSoup \n",
    "import requests "
   ]
  },
  {
   "cell_type": "code",
   "execution_count": 20,
   "id": "8c28784f-db90-4613-bc71-41b685e28343",
   "metadata": {},
   "outputs": [],
   "source": [
    "url = 'https://www.bbc.com/innovation'"
   ]
  },
  {
   "cell_type": "code",
   "execution_count": 21,
   "id": "5a0fb58f-af78-47a1-ba43-fe27d81a154d",
   "metadata": {},
   "outputs": [
    {
     "data": {
      "text/plain": [
       "<Response [200]>"
      ]
     },
     "execution_count": 21,
     "metadata": {},
     "output_type": "execute_result"
    }
   ],
   "source": [
    "requests.get(url)"
   ]
  },
  {
   "cell_type": "code",
   "execution_count": 22,
   "id": "551051f9-85a6-43a4-8fd9-72ca9811fb46",
   "metadata": {},
   "outputs": [],
   "source": [
    "page = requests.get(url)"
   ]
  },
  {
   "cell_type": "code",
   "execution_count": 23,
   "id": "a1e411cd-8c76-4f60-a7a2-9ece4500acd0",
   "metadata": {},
   "outputs": [],
   "source": [
    "soup = BeautifulSoup(page.text, 'html')"
   ]
  },
  {
   "cell_type": "code",
   "execution_count": 24,
   "id": "e6113a47-2a9b-4ef2-a466-052b0e558784",
   "metadata": {},
   "outputs": [
    {
     "data": {
      "text/plain": [
       "[<h2 class=\"sc-4fedabc7-3 zTZri\" data-testid=\"card-headline\">Police investigate Amanda Abbington 'death threat'<!-- --></h2>,\n",
       " <h2 class=\"sc-4fedabc7-3 zTZri\" data-testid=\"card-headline\">Tech Decoded: Sign up to our newsletter<!-- --></h2>,\n",
       " <h2 class=\"sc-4fedabc7-3 zTZri\" data-testid=\"card-headline\">Is the man trying to reverse ageing getting younger?<!-- --></h2>,\n",
       " <h2 class=\"sc-4fedabc7-3 zTZri\" data-testid=\"card-headline\">Why Lyme disease can be so hard to diagnose<!-- --></h2>,\n",
       " <h2 class=\"sc-4fedabc7-3 zTZri\" data-testid=\"card-headline\">Police investigate Amanda Abbington 'death threat'<!-- --></h2>,\n",
       " <h2 class=\"sc-4fedabc7-3 zTZri\" data-testid=\"card-headline\">Why we love an underdog<!-- --></h2>,\n",
       " <h2 class=\"sc-4fedabc7-3 zTZri\" data-testid=\"card-headline\">Views sought on electric vehicle infrastructure<!-- --></h2>,\n",
       " <h2 class=\"sc-4fedabc7-3 zTZri\" data-testid=\"card-headline\">'Blame all your problems on Mercury': What really happens during retrograde?<!-- --></h2>,\n",
       " <h2 class=\"sc-4fedabc7-3 zTZri\" data-testid=\"card-headline\">Tech Decoded: Sign up to our newsletter<!-- --></h2>,\n",
       " <h2 class=\"sc-4fedabc7-3 zTZri\" data-testid=\"card-headline\">The sports where women outperform men<!-- --></h2>,\n",
       " <h2 class=\"sc-4fedabc7-3 zTZri\" data-testid=\"card-headline\">Is eating while we watch TV really that bad?<!-- --></h2>,\n",
       " <h2 class=\"sc-4fedabc7-3 zTZri\" data-testid=\"card-headline\">The strange tastes of a restaurant at the end of the world<!-- --></h2>,\n",
       " <h2 class=\"sc-4fedabc7-3 zTZri\" data-testid=\"card-headline\">Is it possible for AI to fake a sense of humour?<!-- --></h2>,\n",
       " <h2 class=\"sc-4fedabc7-3 zTZri\" data-testid=\"card-headline\">The bizarre history of internet outages<!-- --></h2>,\n",
       " <h2 class=\"sc-4fedabc7-3 zTZri\" data-testid=\"card-headline\">How America's porn wars could change your internet<!-- --></h2>]"
      ]
     },
     "execution_count": 24,
     "metadata": {},
     "output_type": "execute_result"
    }
   ],
   "source": [
    "soup.find_all('h2', class_ =\"sc-4fedabc7-3 zTZri\")"
   ]
  },
  {
   "cell_type": "code",
   "execution_count": 25,
   "id": "c2444a7c-5fb4-4edf-ad15-555cb98281d8",
   "metadata": {},
   "outputs": [],
   "source": [
    "world_titles = soup.find_all('h2', class_ =\"sc-4fedabc7-3 zTZri\")"
   ]
  },
  {
   "cell_type": "code",
   "execution_count": 26,
   "id": "42f6d6f9-9639-449d-af34-ce8cbc688ce8",
   "metadata": {},
   "outputs": [
    {
     "name": "stdout",
     "output_type": "stream",
     "text": [
      "[\"Police investigate Amanda Abbington 'death threat'\", 'Tech Decoded: Sign up to our newsletter', 'Is the man trying to reverse ageing getting younger?', 'Why Lyme disease can be so hard to diagnose', \"Police investigate Amanda Abbington 'death threat'\", 'Why we love an underdog', 'Views sought on electric vehicle infrastructure', \"'Blame all your problems on Mercury': What really happens during retrograde?\", 'Tech Decoded: Sign up to our newsletter', 'The sports where women outperform men', 'Is eating while we watch TV really that bad?', 'The strange tastes of a restaurant at the end of the world', 'Is it possible for AI to fake a sense of humour?', 'The bizarre history of internet outages', \"How America's porn wars could change your internet\"]\n"
     ]
    }
   ],
   "source": [
    "world_article_titles = [title.text for title in world_titles]\n",
    "print(world_article_titles)"
   ]
  },
  {
   "cell_type": "code",
   "execution_count": 27,
   "id": "9ebd787d-a138-4cce-894c-ab0616be6b8e",
   "metadata": {},
   "outputs": [
    {
     "name": "stdout",
     "output_type": "stream",
     "text": [
      "Police investigate Amanda Abbington 'death threat'\n",
      "Tech Decoded: Sign up to our newsletter\n",
      "Is the man trying to reverse ageing getting younger?\n",
      "Why Lyme disease can be so hard to diagnose\n",
      "Police investigate Amanda Abbington 'death threat'\n",
      "Why we love an underdog\n",
      "Views sought on electric vehicle infrastructure\n",
      "'Blame all your problems on Mercury': What really happens during retrograde?\n",
      "Tech Decoded: Sign up to our newsletter\n",
      "The sports where women outperform men\n",
      "Is eating while we watch TV really that bad?\n",
      "The strange tastes of a restaurant at the end of the world\n",
      "Is it possible for AI to fake a sense of humour?\n",
      "The bizarre history of internet outages\n",
      "How America's porn wars could change your internet\n"
     ]
    }
   ],
   "source": [
    "for i in world_article_titles:\n",
    "    print(i)"
   ]
  },
  {
   "cell_type": "code",
   "execution_count": null,
   "id": "bf6416c4-6bf2-4f5d-a578-e0e9b2a20260",
   "metadata": {},
   "outputs": [],
   "source": []
  },
  {
   "cell_type": "code",
   "execution_count": null,
   "id": "3ee0859e-397f-4ef1-970c-9ee9edfb6c26",
   "metadata": {},
   "outputs": [],
   "source": []
  }
 ],
 "metadata": {
  "kernelspec": {
   "display_name": "Python 3 (ipykernel)",
   "language": "python",
   "name": "python3"
  },
  "language_info": {
   "codemirror_mode": {
    "name": "ipython",
    "version": 3
   },
   "file_extension": ".py",
   "mimetype": "text/x-python",
   "name": "python",
   "nbconvert_exporter": "python",
   "pygments_lexer": "ipython3",
   "version": "3.11.7"
  }
 },
 "nbformat": 4,
 "nbformat_minor": 5
}
